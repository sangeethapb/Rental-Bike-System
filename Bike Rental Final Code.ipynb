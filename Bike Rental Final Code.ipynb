{
 "cells": [
  {
   "cell_type": "code",
   "execution_count": 1,
   "id": "08ffaa23",
   "metadata": {
    "id": "a17ac274-6825-42f0-920c-f833a5d3bdc9"
   },
   "outputs": [],
   "source": [
    "import pandas as pd\n",
    "import seaborn as sns\n",
    "import matplotlib.pyplot as plt\n",
    "\n",
    "import warnings\n",
    "warnings.filterwarnings('ignore')"
   ]
  },
  {
   "cell_type": "code",
   "execution_count": 2,
   "id": "84237cb4",
   "metadata": {
    "colab": {
     "base_uri": "https://localhost:8080/",
     "height": 206
    },
    "id": "b232e42b-18d5-4463-9a6a-bc88a2afcbf2",
    "outputId": "0b5e9893-18c1-4ff4-ae6b-6c5ac8fb932f",
    "scrolled": true
   },
   "outputs": [
    {
     "data": {
      "text/html": [
       "<div>\n",
       "<style scoped>\n",
       "    .dataframe tbody tr th:only-of-type {\n",
       "        vertical-align: middle;\n",
       "    }\n",
       "\n",
       "    .dataframe tbody tr th {\n",
       "        vertical-align: top;\n",
       "    }\n",
       "\n",
       "    .dataframe thead th {\n",
       "        text-align: right;\n",
       "    }\n",
       "</style>\n",
       "<table border=\"1\" class=\"dataframe\">\n",
       "  <thead>\n",
       "    <tr style=\"text-align: right;\">\n",
       "      <th></th>\n",
       "      <th>instant</th>\n",
       "      <th>dteday</th>\n",
       "      <th>season</th>\n",
       "      <th>yr</th>\n",
       "      <th>mnth</th>\n",
       "      <th>hr</th>\n",
       "      <th>holiday</th>\n",
       "      <th>weekday</th>\n",
       "      <th>workingday</th>\n",
       "      <th>weathersit</th>\n",
       "      <th>temp</th>\n",
       "      <th>atemp</th>\n",
       "      <th>hum</th>\n",
       "      <th>windspeed</th>\n",
       "      <th>casual</th>\n",
       "      <th>registered</th>\n",
       "      <th>cnt</th>\n",
       "    </tr>\n",
       "  </thead>\n",
       "  <tbody>\n",
       "    <tr>\n",
       "      <th>0</th>\n",
       "      <td>1</td>\n",
       "      <td>01-01-2011</td>\n",
       "      <td>springer</td>\n",
       "      <td>2011</td>\n",
       "      <td>1</td>\n",
       "      <td>0</td>\n",
       "      <td>No</td>\n",
       "      <td>6</td>\n",
       "      <td>No work</td>\n",
       "      <td>Clear</td>\n",
       "      <td>0.24</td>\n",
       "      <td>0.2879</td>\n",
       "      <td>0.81</td>\n",
       "      <td>0</td>\n",
       "      <td>3</td>\n",
       "      <td>13</td>\n",
       "      <td>16</td>\n",
       "    </tr>\n",
       "    <tr>\n",
       "      <th>1</th>\n",
       "      <td>2</td>\n",
       "      <td>01-01-2011</td>\n",
       "      <td>springer</td>\n",
       "      <td>2011</td>\n",
       "      <td>1</td>\n",
       "      <td>1</td>\n",
       "      <td>No</td>\n",
       "      <td>6</td>\n",
       "      <td>No work</td>\n",
       "      <td>Clear</td>\n",
       "      <td>0.22</td>\n",
       "      <td>0.2727</td>\n",
       "      <td>0.8</td>\n",
       "      <td>0</td>\n",
       "      <td>8</td>\n",
       "      <td>32</td>\n",
       "      <td>40</td>\n",
       "    </tr>\n",
       "    <tr>\n",
       "      <th>2</th>\n",
       "      <td>3</td>\n",
       "      <td>01-01-2011</td>\n",
       "      <td>springer</td>\n",
       "      <td>2011</td>\n",
       "      <td>1</td>\n",
       "      <td>2</td>\n",
       "      <td>No</td>\n",
       "      <td>6</td>\n",
       "      <td>No work</td>\n",
       "      <td>Clear</td>\n",
       "      <td>0.22</td>\n",
       "      <td>0.2727</td>\n",
       "      <td>?</td>\n",
       "      <td>0</td>\n",
       "      <td>5</td>\n",
       "      <td>27</td>\n",
       "      <td>32</td>\n",
       "    </tr>\n",
       "    <tr>\n",
       "      <th>3</th>\n",
       "      <td>4</td>\n",
       "      <td>01-01-2011</td>\n",
       "      <td>springer</td>\n",
       "      <td>2011</td>\n",
       "      <td>1</td>\n",
       "      <td>3</td>\n",
       "      <td>No</td>\n",
       "      <td>6</td>\n",
       "      <td>No work</td>\n",
       "      <td>Clear</td>\n",
       "      <td>0.24</td>\n",
       "      <td>0.2879</td>\n",
       "      <td>0.75</td>\n",
       "      <td>0</td>\n",
       "      <td>3</td>\n",
       "      <td>10</td>\n",
       "      <td>13</td>\n",
       "    </tr>\n",
       "    <tr>\n",
       "      <th>4</th>\n",
       "      <td>5</td>\n",
       "      <td>01-01-2011</td>\n",
       "      <td>springer</td>\n",
       "      <td>2011</td>\n",
       "      <td>1</td>\n",
       "      <td>4</td>\n",
       "      <td>No</td>\n",
       "      <td>6</td>\n",
       "      <td>No work</td>\n",
       "      <td>Clear</td>\n",
       "      <td>0.24</td>\n",
       "      <td>0.2879</td>\n",
       "      <td>0.75</td>\n",
       "      <td>0</td>\n",
       "      <td>0</td>\n",
       "      <td>1</td>\n",
       "      <td>1</td>\n",
       "    </tr>\n",
       "  </tbody>\n",
       "</table>\n",
       "</div>"
      ],
      "text/plain": [
       "   instant      dteday    season    yr mnth  hr holiday  weekday workingday  \\\n",
       "0        1  01-01-2011  springer  2011    1   0      No        6    No work   \n",
       "1        2  01-01-2011  springer  2011    1   1      No        6    No work   \n",
       "2        3  01-01-2011  springer  2011    1   2      No        6    No work   \n",
       "3        4  01-01-2011  springer  2011    1   3      No        6    No work   \n",
       "4        5  01-01-2011  springer  2011    1   4      No        6    No work   \n",
       "\n",
       "  weathersit  temp   atemp   hum windspeed casual registered  cnt  \n",
       "0      Clear  0.24  0.2879  0.81         0      3         13   16  \n",
       "1      Clear  0.22  0.2727   0.8         0      8         32   40  \n",
       "2      Clear  0.22  0.2727     ?         0      5         27   32  \n",
       "3      Clear  0.24  0.2879  0.75         0      3         10   13  \n",
       "4      Clear  0.24  0.2879  0.75         0      0          1    1  "
      ]
     },
     "execution_count": 2,
     "metadata": {},
     "output_type": "execute_result"
    }
   ],
   "source": [
    "# Read CSV files\n",
    "data = pd.read_csv('bike_rent (1).csv')\n",
    "data.head()"
   ]
  },
  {
   "cell_type": "markdown",
   "id": "4e3623ca",
   "metadata": {
    "id": "095fa233-5fe2-4017-98f0-691ba1a12864"
   },
   "source": [
    "### Exploratory Data Analysis"
   ]
  },
  {
   "cell_type": "code",
   "execution_count": 3,
   "id": "72dda073",
   "metadata": {
    "colab": {
     "base_uri": "https://localhost:8080/"
    },
    "id": "8870ef0a-6452-43c3-80ac-1c5bdd7ffdd6",
    "outputId": "e6021f9b-ef6b-4bd6-ed30-f807d848ac02"
   },
   "outputs": [
    {
     "data": {
      "text/plain": [
       "instant       False\n",
       "dteday        False\n",
       "season        False\n",
       "yr            False\n",
       "mnth          False\n",
       "hr            False\n",
       "holiday       False\n",
       "weekday       False\n",
       "workingday    False\n",
       "weathersit    False\n",
       "temp          False\n",
       "atemp         False\n",
       "hum           False\n",
       "windspeed     False\n",
       "casual        False\n",
       "registered    False\n",
       "cnt           False\n",
       "dtype: bool"
      ]
     },
     "execution_count": 3,
     "metadata": {},
     "output_type": "execute_result"
    }
   ],
   "source": [
    "# Check for null values\n",
    "data.isnull().any()"
   ]
  },
  {
   "cell_type": "code",
   "execution_count": 4,
   "id": "d87af947",
   "metadata": {
    "colab": {
     "base_uri": "https://localhost:8080/"
    },
    "id": "fb126352-27a9-44ae-99a4-81e513411928",
    "outputId": "b1dadd51-31c1-4bd8-831c-824632b77192"
   },
   "outputs": [
    {
     "data": {
      "text/plain": [
       "0"
      ]
     },
     "execution_count": 4,
     "metadata": {},
     "output_type": "execute_result"
    }
   ],
   "source": [
    "# Check for duplicates\n",
    "data.duplicated().sum()"
   ]
  },
  {
   "cell_type": "code",
   "execution_count": 5,
   "id": "e6e52c42",
   "metadata": {
    "colab": {
     "base_uri": "https://localhost:8080/"
    },
    "id": "31fc5345-6f80-4acd-9592-e3df344352df",
    "outputId": "a5043d43-4077-494d-bcbc-fc424e22185c"
   },
   "outputs": [
    {
     "name": "stdout",
     "output_type": "stream",
     "text": [
      "<class 'pandas.core.frame.DataFrame'>\n",
      "RangeIndex: 17379 entries, 0 to 17378\n",
      "Data columns (total 17 columns):\n",
      " #   Column      Non-Null Count  Dtype \n",
      "---  ------      --------------  ----- \n",
      " 0   instant     17379 non-null  int64 \n",
      " 1   dteday      17379 non-null  object\n",
      " 2   season      17379 non-null  object\n",
      " 3   yr          17379 non-null  object\n",
      " 4   mnth        17379 non-null  object\n",
      " 5   hr          17379 non-null  int64 \n",
      " 6   holiday     17379 non-null  object\n",
      " 7   weekday     17379 non-null  int64 \n",
      " 8   workingday  17379 non-null  object\n",
      " 9   weathersit  17379 non-null  object\n",
      " 10  temp        17379 non-null  object\n",
      " 11  atemp       17379 non-null  object\n",
      " 12  hum         17379 non-null  object\n",
      " 13  windspeed   17379 non-null  object\n",
      " 14  casual      17379 non-null  object\n",
      " 15  registered  17379 non-null  object\n",
      " 16  cnt         17379 non-null  int64 \n",
      "dtypes: int64(4), object(13)\n",
      "memory usage: 2.3+ MB\n"
     ]
    }
   ],
   "source": [
    "# List the data types\n",
    "data.info()"
   ]
  },
  {
   "cell_type": "markdown",
   "id": "5f5a11ce",
   "metadata": {
    "id": "d0e5c2f0-044d-4da6-9159-346d5d2f5be9"
   },
   "source": [
    "#### Categories in each column"
   ]
  },
  {
   "cell_type": "markdown",
   "id": "c65cd982",
   "metadata": {
    "id": "6b0d10a0-2d00-43ea-bcd8-8aac44ea64b9"
   },
   "source": [
    "##### 1. instant"
   ]
  },
  {
   "cell_type": "code",
   "execution_count": 6,
   "id": "ade29944",
   "metadata": {
    "colab": {
     "base_uri": "https://localhost:8080/"
    },
    "id": "8945bb39-6f6b-4121-996e-78107a67655e",
    "outputId": "75456702-9fd6-4e67-8e7a-d0c5711e38d5"
   },
   "outputs": [
    {
     "data": {
      "text/plain": [
       "False"
      ]
     },
     "execution_count": 6,
     "metadata": {},
     "output_type": "execute_result"
    }
   ],
   "source": [
    "data['instant'].duplicated().any()"
   ]
  },
  {
   "cell_type": "markdown",
   "id": "aaacce81",
   "metadata": {
    "id": "05a1475a-510f-4ac7-9303-058df309496e"
   },
   "source": [
    "##### 2. dteday"
   ]
  },
  {
   "cell_type": "code",
   "execution_count": 7,
   "id": "c1ed43da",
   "metadata": {
    "colab": {
     "base_uri": "https://localhost:8080/"
    },
    "id": "bd9ca604-0df2-452d-9789-f9cf019d80c3",
    "outputId": "63aef925-1609-442b-9679-9e7a0bb8f20e",
    "scrolled": true
   },
   "outputs": [
    {
     "data": {
      "text/plain": [
       "dtype('<M8[ns]')"
      ]
     },
     "execution_count": 7,
     "metadata": {},
     "output_type": "execute_result"
    }
   ],
   "source": [
    "# change data type for dteday to datetime type to see if there are any special characters\n",
    "data['dteday'] = pd.to_datetime(data['dteday'], format = '%d-%m-%Y')\n",
    "data['dteday'].dtype"
   ]
  },
  {
   "cell_type": "markdown",
   "id": "43b84bb9",
   "metadata": {
    "id": "28ab8641-59a0-404e-8861-bef1a7983234"
   },
   "source": [
    "##### 3. Season, yr, mnth, holiday, weekday, workingday"
   ]
  },
  {
   "cell_type": "code",
   "execution_count": 8,
   "id": "3cd43586",
   "metadata": {
    "colab": {
     "base_uri": "https://localhost:8080/"
    },
    "id": "99cb9737-9867-4184-bf3c-96479fadee07",
    "outputId": "5f058743-4415-4b80-e6c0-6cdde2c85457"
   },
   "outputs": [
    {
     "name": "stdout",
     "output_type": "stream",
     "text": [
      "season\n",
      "fall        4496\n",
      "summer      4409\n",
      "springer    4236\n",
      "winter      4232\n",
      "?              6\n",
      "Name: count, dtype: int64\n",
      "\n",
      "\n",
      "yr\n",
      "2012    8734\n",
      "2011    8644\n",
      "?          1\n",
      "Name: count, dtype: int64\n",
      "\n",
      "\n",
      "mnth\n",
      "5     1488\n",
      "7     1488\n",
      "12    1482\n",
      "8     1475\n",
      "3     1473\n",
      "10    1451\n",
      "6     1440\n",
      "4     1437\n",
      "9     1437\n",
      "11    1437\n",
      "1     1429\n",
      "2     1341\n",
      "?        1\n",
      "Name: count, dtype: int64\n",
      "\n",
      "\n",
      "holiday\n",
      "No     16878\n",
      "Yes      500\n",
      "?          1\n",
      "Name: count, dtype: int64\n",
      "\n",
      "\n",
      "weekday\n",
      "6    2512\n",
      "0    2502\n",
      "5    2487\n",
      "1    2479\n",
      "3    2475\n",
      "4    2471\n",
      "2    2453\n",
      "Name: count, dtype: int64\n",
      "\n",
      "\n",
      "workingday\n",
      "Working Day    11862\n",
      "No work         5512\n",
      "?                  5\n",
      "Name: count, dtype: int64\n",
      "\n",
      "\n"
     ]
    }
   ],
   "source": [
    "col_replace = ['season', 'yr','mnth', 'holiday', 'weekday', 'workingday']\n",
    "for col in col_replace:\n",
    "    print(data[col].value_counts())\n",
    "    print('\\n')"
   ]
  },
  {
   "cell_type": "markdown",
   "id": "7653da9b",
   "metadata": {
    "id": "07d91ecb-c65f-4f49-be58-6cc671d7212e"
   },
   "source": [
    "###### weekday has no value ?, others need replacement based on date"
   ]
  },
  {
   "cell_type": "code",
   "execution_count": 9,
   "id": "f24ea967",
   "metadata": {
    "id": "c034297f-58ec-4104-b4a4-a4f44f3d1934"
   },
   "outputs": [],
   "source": [
    "# Find the date for which each column has a value of ?, then use that date to find what the actual column value shoulld replace '?' in each column\n",
    "\n",
    "col_replace.remove('weekday') # weekday not required\n",
    "\n",
    "for col in col_replace:\n",
    "    date_wd = data[data[col] == '?']['dteday'] # dates where value for that column is '?'\n",
    "    for date in date_wd:\n",
    "        column_value = data[data['dteday'] == date][col].value_counts().idxmax(0) # the column value from other rows with same date\n",
    "        # print(workingday_value) # just for checkjng\n",
    "        data.loc[(data['dteday'] == date) & (data[col]  == '?'), col] = column_value"
   ]
  },
  {
   "cell_type": "code",
   "execution_count": 10,
   "id": "ef5630bf",
   "metadata": {
    "colab": {
     "base_uri": "https://localhost:8080/"
    },
    "id": "ec16e738-1164-4fab-bf55-6f68feb929e3",
    "outputId": "0af564a1-867c-40dd-815c-41f7d8d35b19"
   },
   "outputs": [
    {
     "name": "stdout",
     "output_type": "stream",
     "text": [
      "season\n",
      "fall        4496\n",
      "summer      4409\n",
      "springer    4242\n",
      "winter      4232\n",
      "Name: count, dtype: int64\n",
      "\n",
      "\n",
      "yr\n",
      "2012    8734\n",
      "2011    8645\n",
      "Name: count, dtype: int64\n",
      "\n",
      "\n",
      "mnth\n",
      "5     1488\n",
      "7     1488\n",
      "12    1483\n",
      "8     1475\n",
      "3     1473\n",
      "10    1451\n",
      "6     1440\n",
      "4     1437\n",
      "9     1437\n",
      "11    1437\n",
      "1     1429\n",
      "2     1341\n",
      "Name: count, dtype: int64\n",
      "\n",
      "\n",
      "holiday\n",
      "No     16879\n",
      "Yes      500\n",
      "Name: count, dtype: int64\n",
      "\n",
      "\n",
      "workingday\n",
      "Working Day    11865\n",
      "No work         5514\n",
      "Name: count, dtype: int64\n",
      "\n",
      "\n"
     ]
    }
   ],
   "source": [
    "# Check fir '?' to all be replaced\n",
    "for col in col_replace:\n",
    "    print(data[col].value_counts())\n",
    "    print('\\n')"
   ]
  },
  {
   "cell_type": "code",
   "execution_count": 11,
   "id": "ce75d90f",
   "metadata": {
    "colab": {
     "base_uri": "https://localhost:8080/"
    },
    "id": "9f46ff30-4cca-4b4a-9312-5d7d660538d8",
    "outputId": "925140a6-f855-43e3-a59a-e9f6bd7d4b4d"
   },
   "outputs": [
    {
     "data": {
      "text/plain": [
       "season\n",
       "fall      4496\n",
       "summer    4409\n",
       "spring    4242\n",
       "winter    4232\n",
       "Name: count, dtype: int64"
      ]
     },
     "execution_count": 11,
     "metadata": {},
     "output_type": "execute_result"
    }
   ],
   "source": [
    "# replace ? in season with springer as mnth 1 in other instances is springer\n",
    "data['season'] = data['season'].replace('springer', 'spring')\n",
    "data['season'].value_counts()"
   ]
  },
  {
   "cell_type": "code",
   "execution_count": 12,
   "id": "0748e96b",
   "metadata": {
    "colab": {
     "base_uri": "https://localhost:8080/"
    },
    "id": "98640e0b-e9cd-44c4-809d-147e0cd2bdf5",
    "outputId": "6a982c67-5910-45a9-849b-1a657cb4c738"
   },
   "outputs": [
    {
     "data": {
      "text/plain": [
       "(dtype('O'), dtype('int32'))"
      ]
     },
     "execution_count": 12,
     "metadata": {},
     "output_type": "execute_result"
    }
   ],
   "source": [
    "# Make year and month of data type int\n",
    "# data['yr'] = data['yr'].astype(int)\n",
    "data['mnth'] = data['mnth'].astype(int)\n",
    "data['yr'].dtype, data['mnth'].dtype"
   ]
  },
  {
   "cell_type": "markdown",
   "id": "71430f83",
   "metadata": {
    "id": "407cf86a-243a-4c09-a6c8-209d8c8b0d22"
   },
   "source": [
    "##### 4. hr"
   ]
  },
  {
   "cell_type": "code",
   "execution_count": 13,
   "id": "698f96ab",
   "metadata": {
    "colab": {
     "base_uri": "https://localhost:8080/"
    },
    "id": "5d3343b6-13aa-4473-9597-a94889a1f327",
    "outputId": "ece216dc-f694-4dc0-8ae1-e6c886f0a47d"
   },
   "outputs": [
    {
     "data": {
      "text/plain": [
       "hr\n",
       "17    730\n",
       "16    730\n",
       "13    729\n",
       "15    729\n",
       "14    729\n",
       "12    728\n",
       "22    728\n",
       "21    728\n",
       "20    728\n",
       "19    728\n",
       "18    728\n",
       "23    728\n",
       "11    727\n",
       "10    727\n",
       "9     727\n",
       "8     727\n",
       "7     727\n",
       "0     726\n",
       "6     725\n",
       "1     724\n",
       "5     717\n",
       "2     715\n",
       "4     697\n",
       "3     697\n",
       "Name: count, dtype: int64"
      ]
     },
     "execution_count": 13,
     "metadata": {},
     "output_type": "execute_result"
    }
   ],
   "source": [
    "data['hr'].value_counts()"
   ]
  },
  {
   "cell_type": "markdown",
   "id": "cecdcf93",
   "metadata": {
    "id": "cb22fec8-00a0-4052-be61-4a1cf20ef779"
   },
   "source": [
    "##### 5. weathersit"
   ]
  },
  {
   "cell_type": "code",
   "execution_count": 14,
   "id": "ab2d8357",
   "metadata": {
    "colab": {
     "base_uri": "https://localhost:8080/"
    },
    "id": "72699b24-aa05-4842-b8c1-5cdbb5fb7fa0",
    "outputId": "a1a8f0b1-158d-46a0-8390-490185cea2aa"
   },
   "outputs": [
    {
     "data": {
      "text/plain": [
       "weathersit\n",
       "Clear         11412\n",
       "Mist           4541\n",
       "Light Snow     1419\n",
       "?                 4\n",
       "Heavy Rain        3\n",
       "Name: count, dtype: int64"
      ]
     },
     "execution_count": 14,
     "metadata": {},
     "output_type": "execute_result"
    }
   ],
   "source": [
    "data['weathersit'].value_counts()"
   ]
  },
  {
   "cell_type": "code",
   "execution_count": 15,
   "id": "2a96b261",
   "metadata": {
    "colab": {
     "base_uri": "https://localhost:8080/"
    },
    "id": "0771fabc-6290-4603-b760-314e7e656812",
    "outputId": "f550720c-985f-4acf-d28c-581ee8436cd7"
   },
   "outputs": [
    {
     "data": {
      "text/plain": [
       "weathersit\n",
       "Clear          11412\n",
       "Mist            4541\n",
       "Light Snow      1419\n",
       "unavailable        4\n",
       "Heavy Rain         3\n",
       "Name: count, dtype: int64"
      ]
     },
     "execution_count": 15,
     "metadata": {},
     "output_type": "execute_result"
    }
   ],
   "source": [
    "# replace ? with unavailable\n",
    "data['weathersit'] = data['weathersit'].replace('?', 'unavailable') # each hour has its own weather, therefore use place holder unavailable\n",
    "data['weathersit'].value_counts()"
   ]
  },
  {
   "cell_type": "markdown",
   "id": "0aff25b1",
   "metadata": {
    "id": "d6e951f8-b3f1-4429-a593-f6523e8faff2"
   },
   "source": [
    "##### 6. temp, atemp, hum, windspeed"
   ]
  },
  {
   "cell_type": "code",
   "execution_count": 16,
   "id": "093f70aa",
   "metadata": {
    "id": "9f6cc3c0-45e3-49d0-9f5a-c5314ea80064"
   },
   "outputs": [],
   "source": [
    "# Temperature, normalized temperature, windspeed and humidity is interpolated over the specific day to replace '?'\n",
    "\n",
    "col_interp = ['temp', 'atemp', 'hum', 'windspeed']\n",
    "for col in col_interp:\n",
    "    data[col] = data[col].replace('?', float('NaN')) # NaN is used, as interpolate function inetrpolates for NaN values\n",
    "    data[col] = data[col].astype(float) # change object type to float for interpolation function"
   ]
  },
  {
   "cell_type": "code",
   "execution_count": 17,
   "id": "6e2f6dd4",
   "metadata": {
    "id": "02c47664-abdf-4430-8d4b-fc3a4919e58e"
   },
   "outputs": [],
   "source": [
    "# Interpolate missing values over each day\n",
    "\n",
    "for col in col_interp:\n",
    "    data[col] = data[col].interpolate()"
   ]
  },
  {
   "cell_type": "code",
   "execution_count": 18,
   "id": "dbe769b1",
   "metadata": {
    "colab": {
     "base_uri": "https://localhost:8080/"
    },
    "id": "b4e2a91b-2cfb-4864-abc0-b2e29b7bdb65",
    "outputId": "3b30b2e1-27a9-4eba-e6af-25e60a767ed8"
   },
   "outputs": [
    {
     "data": {
      "text/plain": [
       "temp     False\n",
       "atemp    False\n",
       "hum      False\n",
       "dtype: bool"
      ]
     },
     "execution_count": 18,
     "metadata": {},
     "output_type": "execute_result"
    }
   ],
   "source": [
    "data[['temp','atemp','hum']].isnull().any()"
   ]
  },
  {
   "cell_type": "markdown",
   "id": "8b7d22a0",
   "metadata": {
    "id": "cfa2508e-1ef8-40a1-a1b5-e30e0feea450"
   },
   "source": [
    "##### 7. casual, registered, cnt"
   ]
  },
  {
   "cell_type": "code",
   "execution_count": 19,
   "id": "e6bf2b70",
   "metadata": {
    "colab": {
     "base_uri": "https://localhost:8080/",
     "height": 80
    },
    "id": "e5400986-0511-4237-a791-988477a8c607",
    "outputId": "73c58680-40f0-496f-e75d-5b461b58c867"
   },
   "outputs": [
    {
     "data": {
      "text/html": [
       "<div>\n",
       "<style scoped>\n",
       "    .dataframe tbody tr th:only-of-type {\n",
       "        vertical-align: middle;\n",
       "    }\n",
       "\n",
       "    .dataframe tbody tr th {\n",
       "        vertical-align: top;\n",
       "    }\n",
       "\n",
       "    .dataframe thead th {\n",
       "        text-align: right;\n",
       "    }\n",
       "</style>\n",
       "<table border=\"1\" class=\"dataframe\">\n",
       "  <thead>\n",
       "    <tr style=\"text-align: right;\">\n",
       "      <th></th>\n",
       "      <th>casual</th>\n",
       "      <th>registered</th>\n",
       "      <th>cnt</th>\n",
       "    </tr>\n",
       "  </thead>\n",
       "  <tbody>\n",
       "    <tr>\n",
       "      <th>12</th>\n",
       "      <td>?</td>\n",
       "      <td>?</td>\n",
       "      <td>84</td>\n",
       "    </tr>\n",
       "  </tbody>\n",
       "</table>\n",
       "</div>"
      ],
      "text/plain": [
       "   casual registered  cnt\n",
       "12      ?          ?   84"
      ]
     },
     "execution_count": 19,
     "metadata": {},
     "output_type": "execute_result"
    }
   ],
   "source": [
    "# Check for missing values in casual\n",
    "data[data['casual'] == '?'][['casual', 'registered', 'cnt']]"
   ]
  },
  {
   "cell_type": "code",
   "execution_count": 20,
   "id": "43e9c609",
   "metadata": {
    "colab": {
     "base_uri": "https://localhost:8080/",
     "height": 80
    },
    "id": "b255ad44-6e5a-45fc-a282-bc67af6e983c",
    "outputId": "c689aae1-de2f-45f2-b720-224be0e3494a"
   },
   "outputs": [
    {
     "data": {
      "text/html": [
       "<div>\n",
       "<style scoped>\n",
       "    .dataframe tbody tr th:only-of-type {\n",
       "        vertical-align: middle;\n",
       "    }\n",
       "\n",
       "    .dataframe tbody tr th {\n",
       "        vertical-align: top;\n",
       "    }\n",
       "\n",
       "    .dataframe thead th {\n",
       "        text-align: right;\n",
       "    }\n",
       "</style>\n",
       "<table border=\"1\" class=\"dataframe\">\n",
       "  <thead>\n",
       "    <tr style=\"text-align: right;\">\n",
       "      <th></th>\n",
       "      <th>casual</th>\n",
       "      <th>registered</th>\n",
       "      <th>cnt</th>\n",
       "    </tr>\n",
       "  </thead>\n",
       "  <tbody>\n",
       "    <tr>\n",
       "      <th>12</th>\n",
       "      <td>?</td>\n",
       "      <td>?</td>\n",
       "      <td>84</td>\n",
       "    </tr>\n",
       "  </tbody>\n",
       "</table>\n",
       "</div>"
      ],
      "text/plain": [
       "   casual registered  cnt\n",
       "12      ?          ?   84"
      ]
     },
     "execution_count": 20,
     "metadata": {},
     "output_type": "execute_result"
    }
   ],
   "source": [
    "# Check for missing values in registered\n",
    "data[data['registered'] == '?'][['casual', 'registered', 'cnt']]"
   ]
  },
  {
   "cell_type": "code",
   "execution_count": 21,
   "id": "9c7ab666",
   "metadata": {
    "colab": {
     "base_uri": "https://localhost:8080/",
     "height": 53
    },
    "id": "fd2c1497-41be-4ba2-a34d-fa6f9fc987bf",
    "outputId": "3a74a497-5b8e-4d52-ab61-d505f3cb6d8d"
   },
   "outputs": [
    {
     "data": {
      "text/html": [
       "<div>\n",
       "<style scoped>\n",
       "    .dataframe tbody tr th:only-of-type {\n",
       "        vertical-align: middle;\n",
       "    }\n",
       "\n",
       "    .dataframe tbody tr th {\n",
       "        vertical-align: top;\n",
       "    }\n",
       "\n",
       "    .dataframe thead th {\n",
       "        text-align: right;\n",
       "    }\n",
       "</style>\n",
       "<table border=\"1\" class=\"dataframe\">\n",
       "  <thead>\n",
       "    <tr style=\"text-align: right;\">\n",
       "      <th></th>\n",
       "      <th>casual</th>\n",
       "      <th>registered</th>\n",
       "      <th>cnt</th>\n",
       "    </tr>\n",
       "  </thead>\n",
       "  <tbody>\n",
       "  </tbody>\n",
       "</table>\n",
       "</div>"
      ],
      "text/plain": [
       "Empty DataFrame\n",
       "Columns: [casual, registered, cnt]\n",
       "Index: []"
      ]
     },
     "execution_count": 21,
     "metadata": {},
     "output_type": "execute_result"
    }
   ],
   "source": [
    "# Check for missing values in cnt\n",
    "data[data['cnt'] == '?'][['casual', 'registered', 'cnt']]"
   ]
  },
  {
   "cell_type": "code",
   "execution_count": 22,
   "id": "2de2020b",
   "metadata": {
    "id": "34f0506d-b5d3-4053-83fa-67c65f95f933"
   },
   "outputs": [],
   "source": [
    "# Replace ? with -1 which is an integer\n",
    "data['casual'] = data['casual'].replace('?', -1)\n",
    "data['casual'] = data['casual'].astype(int)\n",
    "\n",
    "data['registered'] = data['registered'].replace('?', -1)\n",
    "data['registered'] = data['registered'].astype(int)\n",
    "\n",
    "data['cnt'] = data['cnt'].astype(int)"
   ]
  },
  {
   "cell_type": "code",
   "execution_count": 23,
   "id": "21e86991",
   "metadata": {
    "colab": {
     "base_uri": "https://localhost:8080/"
    },
    "id": "8a71442f-d134-45cf-9353-24236dd74c1d",
    "outputId": "c9663b32-3436-42f5-e31a-8385ab29c6c2"
   },
   "outputs": [
    {
     "name": "stdout",
     "output_type": "stream",
     "text": [
      "<class 'pandas.core.frame.DataFrame'>\n",
      "RangeIndex: 17379 entries, 0 to 17378\n",
      "Data columns (total 17 columns):\n",
      " #   Column      Non-Null Count  Dtype         \n",
      "---  ------      --------------  -----         \n",
      " 0   instant     17379 non-null  int64         \n",
      " 1   dteday      17379 non-null  datetime64[ns]\n",
      " 2   season      17379 non-null  object        \n",
      " 3   yr          17379 non-null  object        \n",
      " 4   mnth        17379 non-null  int32         \n",
      " 5   hr          17379 non-null  int64         \n",
      " 6   holiday     17379 non-null  object        \n",
      " 7   weekday     17379 non-null  int64         \n",
      " 8   workingday  17379 non-null  object        \n",
      " 9   weathersit  17379 non-null  object        \n",
      " 10  temp        17379 non-null  float64       \n",
      " 11  atemp       17379 non-null  float64       \n",
      " 12  hum         17379 non-null  float64       \n",
      " 13  windspeed   17379 non-null  float64       \n",
      " 14  casual      17379 non-null  int32         \n",
      " 15  registered  17379 non-null  int32         \n",
      " 16  cnt         17379 non-null  int32         \n",
      "dtypes: datetime64[ns](1), float64(4), int32(4), int64(3), object(5)\n",
      "memory usage: 2.0+ MB\n"
     ]
    }
   ],
   "source": [
    "data.info()"
   ]
  },
  {
   "cell_type": "markdown",
   "id": "7ac6313c",
   "metadata": {
    "id": "d087d2f7-0146-468c-aa12-304b6b40aeb7"
   },
   "source": [
    "#### Rename Columns"
   ]
  },
  {
   "cell_type": "code",
   "execution_count": 24,
   "id": "d795d605",
   "metadata": {
    "id": "44e41680-b41f-4682-9a00-44c35a4c7d47"
   },
   "outputs": [],
   "source": [
    "data.rename(columns={'dteday': 'date', 'yr': 'year', 'mnth': 'month', 'hr': 'hour', 'weathersit': 'weather', 'atemp': 'temp_feel', 'hum': 'humidity',\n",
    "                    'cnt': 'count'}, inplace = True)"
   ]
  },
  {
   "cell_type": "markdown",
   "id": "77d2536d",
   "metadata": {
    "id": "cba884e1-27eb-4ec1-9d69-d6dff28a74d5"
   },
   "source": [
    "## Visualisation"
   ]
  },
  {
   "cell_type": "code",
   "execution_count": 25,
   "id": "44bad7ed",
   "metadata": {
    "colab": {
     "base_uri": "https://localhost:8080/",
     "height": 564
    },
    "id": "a2b4bd60-4461-4d6f-8f2d-09fb03645050",
    "outputId": "97bc3a96-9acb-426e-8a85-c45662635e37"
   },
   "outputs": [
    {
     "data": {
      "image/png": "[encoded data removed]",
      "text/plain": [
       "<Figure size 1000x600 with 1 Axes>"
      ]
     },
     "metadata": {},
     "output_type": "display_data"
    }
   ],
   "source": [
    "fig = plt.figure(figsize = (10,6))\n",
    "ax = sns.countplot(data = data, x = 'season', hue = 'year', palette = ['powderblue', 'skyblue'])\n",
    "plt.ylim(0,3000)\n",
    "plt.title('Season count over the Years')\n",
    "for container in ax.containers:\n",
    "    ax.bar_label(container)\n",
    "\n",
    "plt.show()"
   ]
  },
  {
   "cell_type": "markdown",
   "id": "e7517cad",
   "metadata": {
    "id": "4c37378a-bbca-40b2-87d1-89096d23f44b"
   },
   "source": [
    "### Total Count of bikes rented over different Seasons"
   ]
  },
  {
   "cell_type": "code",
   "execution_count": 26,
   "id": "0e25ed4b",
   "metadata": {
    "colab": {
     "base_uri": "https://localhost:8080/"
    },
    "id": "89164b3b-b7ff-45a4-92c3-885c5203a47e",
    "outputId": "ee301046-f1fe-4c50-e598-835f598364c0"
   },
   "outputs": [
    {
     "data": {
      "text/plain": [
       "year  season\n",
       "2011  fall      419650\n",
       "      spring    150000\n",
       "      summer    347316\n",
       "      winter    326137\n",
       "2012  fall      641479\n",
       "      spring    321348\n",
       "      summer    571273\n",
       "      winter    515476\n",
       "Name: count, dtype: int32"
      ]
     },
     "execution_count": 26,
     "metadata": {},
     "output_type": "execute_result"
    }
   ],
   "source": [
    "# Seasona and year wise distribution\n",
    "count_group = data.groupby(['year','season'])['count'].sum()\n",
    "count_group"
   ]
  },
  {
   "cell_type": "code",
   "execution_count": 27,
   "id": "d46f1e59",
   "metadata": {
    "colab": {
     "base_uri": "https://localhost:8080/",
     "height": 206
    },
    "id": "320ac8e0-5798-4c83-9f2d-a22060968f80",
    "outputId": "479f1d58-2f30-443d-909c-5b389a2c8141"
   },
   "outputs": [
    {
     "data": {
      "text/html": [
       "<div>\n",
       "<style scoped>\n",
       "    .dataframe tbody tr th:only-of-type {\n",
       "        vertical-align: middle;\n",
       "    }\n",
       "\n",
       "    .dataframe tbody tr th {\n",
       "        vertical-align: top;\n",
       "    }\n",
       "\n",
       "    .dataframe thead th {\n",
       "        text-align: right;\n",
       "    }\n",
       "</style>\n",
       "<table border=\"1\" class=\"dataframe\">\n",
       "  <thead>\n",
       "    <tr style=\"text-align: right;\">\n",
       "      <th>year</th>\n",
       "      <th>2011</th>\n",
       "      <th>2012</th>\n",
       "    </tr>\n",
       "    <tr>\n",
       "      <th>season</th>\n",
       "      <th></th>\n",
       "      <th></th>\n",
       "    </tr>\n",
       "  </thead>\n",
       "  <tbody>\n",
       "    <tr>\n",
       "      <th>fall</th>\n",
       "      <td>419650</td>\n",
       "      <td>641479</td>\n",
       "    </tr>\n",
       "    <tr>\n",
       "      <th>spring</th>\n",
       "      <td>150000</td>\n",
       "      <td>321348</td>\n",
       "    </tr>\n",
       "    <tr>\n",
       "      <th>summer</th>\n",
       "      <td>347316</td>\n",
       "      <td>571273</td>\n",
       "    </tr>\n",
       "    <tr>\n",
       "      <th>winter</th>\n",
       "      <td>326137</td>\n",
       "      <td>515476</td>\n",
       "    </tr>\n",
       "  </tbody>\n",
       "</table>\n",
       "</div>"
      ],
      "text/plain": [
       "year      2011    2012\n",
       "season                \n",
       "fall    419650  641479\n",
       "spring  150000  321348\n",
       "summer  347316  571273\n",
       "winter  326137  515476"
      ]
     },
     "execution_count": 27,
     "metadata": {},
     "output_type": "execute_result"
    }
   ],
   "source": [
    "# Unstack the series\n",
    "count_group_df = count_group.unstack(level = 0)\n",
    "count_group_df"
   ]
  },
  {
   "cell_type": "code",
   "execution_count": 28,
   "id": "52d5900e",
   "metadata": {
    "colab": {
     "base_uri": "https://localhost:8080/",
     "height": 564
    },
    "id": "4510e27f-1a77-4869-a03c-3b921f931fc9",
    "outputId": "8e4b4045-9dcb-47ac-f964-91b1bd9eae8c"
   },
   "outputs": [
    {
     "data": {
      "image/png": "[encoded data removed]",
      "text/plain": [
       "<Figure size 1000x600 with 1 Axes>"
      ]
     },
     "metadata": {},
     "output_type": "display_data"
    }
   ],
   "source": [
    "# Plot the graph\n",
    "ax = count_group_df.plot(kind = 'bar', figsize = (10,6), color = ['pink', 'palevioletred'], rot = 0, width = 0.7)\n",
    "plt.ylabel('Rented Bike Count')\n",
    "plt.title('Total Bikes rented over different Seasons')\n",
    "plt.ylim(0, 700000)\n",
    "for container in ax.containers:\n",
    "    ax.bar_label(container)\n",
    "plt.show()"
   ]
  },
  {
   "cell_type": "code",
   "execution_count": 29,
   "id": "c335be39",
   "metadata": {
    "colab": {
     "base_uri": "https://localhost:8080/"
    },
    "id": "11c7586a-fd52-4658-8c42-135cee2d33cb",
    "outputId": "9f7f16fa-dda7-4d3f-d1ec-7fe083b45e16"
   },
   "outputs": [
    {
     "data": {
      "text/plain": [
       "(17378, 17)"
      ]
     },
     "execution_count": 29,
     "metadata": {},
     "output_type": "execute_result"
    }
   ],
   "source": [
    "# Remove the row in casual and registered columns which have the place holder value of -1. Its the same row for both\n",
    "data_edit = data[data['casual'] != -1]\n",
    "data_edit.shape\n"
   ]
  },
  {
   "cell_type": "code",
   "execution_count": 30,
   "id": "31a8b6d1",
   "metadata": {
    "colab": {
     "base_uri": "https://localhost:8080/",
     "height": 331
    },
    "id": "fab9b3e3-49de-4830-9fca-b3dcf151b5d2",
    "outputId": "f6f679b7-cc9c-4eb1-d431-86f1c1213011"
   },
   "outputs": [
    {
     "data": {
      "text/html": [
       "<div>\n",
       "<style scoped>\n",
       "    .dataframe tbody tr th:only-of-type {\n",
       "        vertical-align: middle;\n",
       "    }\n",
       "\n",
       "    .dataframe tbody tr th {\n",
       "        vertical-align: top;\n",
       "    }\n",
       "\n",
       "    .dataframe thead th {\n",
       "        text-align: right;\n",
       "    }\n",
       "</style>\n",
       "<table border=\"1\" class=\"dataframe\">\n",
       "  <thead>\n",
       "    <tr style=\"text-align: right;\">\n",
       "      <th></th>\n",
       "      <th></th>\n",
       "      <th>casual</th>\n",
       "      <th>registered</th>\n",
       "    </tr>\n",
       "    <tr>\n",
       "      <th>year</th>\n",
       "      <th>season</th>\n",
       "      <th></th>\n",
       "      <th></th>\n",
       "    </tr>\n",
       "  </thead>\n",
       "  <tbody>\n",
       "    <tr>\n",
       "      <th rowspan=\"4\" valign=\"top\">2011</th>\n",
       "      <th>fall</th>\n",
       "      <td>95450</td>\n",
       "      <td>324200</td>\n",
       "    </tr>\n",
       "    <tr>\n",
       "      <th>spring</th>\n",
       "      <td>21396</td>\n",
       "      <td>128520</td>\n",
       "    </tr>\n",
       "    <tr>\n",
       "      <th>summer</th>\n",
       "      <td>77564</td>\n",
       "      <td>269752</td>\n",
       "    </tr>\n",
       "    <tr>\n",
       "      <th>winter</th>\n",
       "      <td>52813</td>\n",
       "      <td>273324</td>\n",
       "    </tr>\n",
       "    <tr>\n",
       "      <th rowspan=\"4\" valign=\"top\">2012</th>\n",
       "      <th>fall</th>\n",
       "      <td>130641</td>\n",
       "      <td>510838</td>\n",
       "    </tr>\n",
       "    <tr>\n",
       "      <th>spring</th>\n",
       "      <td>39197</td>\n",
       "      <td>282151</td>\n",
       "    </tr>\n",
       "    <tr>\n",
       "      <th>summer</th>\n",
       "      <td>125958</td>\n",
       "      <td>445315</td>\n",
       "    </tr>\n",
       "    <tr>\n",
       "      <th>winter</th>\n",
       "      <td>76969</td>\n",
       "      <td>438507</td>\n",
       "    </tr>\n",
       "  </tbody>\n",
       "</table>\n",
       "</div>"
      ],
      "text/plain": [
       "             casual  registered\n",
       "year season                    \n",
       "2011 fall     95450      324200\n",
       "     spring   21396      128520\n",
       "     summer   77564      269752\n",
       "     winter   52813      273324\n",
       "2012 fall    130641      510838\n",
       "     spring   39197      282151\n",
       "     summer  125958      445315\n",
       "     winter   76969      438507"
      ]
     },
     "execution_count": 30,
     "metadata": {},
     "output_type": "execute_result"
    }
   ],
   "source": [
    "both_group = data_edit.groupby(['year','season'])[['casual','registered']].sum()\n",
    "both_group"
   ]
  },
  {
   "cell_type": "code",
   "execution_count": 31,
   "id": "35f36e73",
   "metadata": {
    "colab": {
     "base_uri": "https://localhost:8080/",
     "height": 237
    },
    "id": "4441fcd7-c943-4275-a5e9-090fba30210e",
    "outputId": "4c636617-8a9f-45d4-da18-f98bcc58d18a"
   },
   "outputs": [
    {
     "data": {
      "text/html": [
       "<div>\n",
       "<style scoped>\n",
       "    .dataframe tbody tr th:only-of-type {\n",
       "        vertical-align: middle;\n",
       "    }\n",
       "\n",
       "    .dataframe tbody tr th {\n",
       "        vertical-align: top;\n",
       "    }\n",
       "\n",
       "    .dataframe thead tr th {\n",
       "        text-align: left;\n",
       "    }\n",
       "\n",
       "    .dataframe thead tr:last-of-type th {\n",
       "        text-align: right;\n",
       "    }\n",
       "</style>\n",
       "<table border=\"1\" class=\"dataframe\">\n",
       "  <thead>\n",
       "    <tr>\n",
       "      <th></th>\n",
       "      <th colspan=\"2\" halign=\"left\">casual</th>\n",
       "      <th colspan=\"2\" halign=\"left\">registered</th>\n",
       "    </tr>\n",
       "    <tr>\n",
       "      <th>year</th>\n",
       "      <th>2011</th>\n",
       "      <th>2012</th>\n",
       "      <th>2011</th>\n",
       "      <th>2012</th>\n",
       "    </tr>\n",
       "    <tr>\n",
       "      <th>season</th>\n",
       "      <th></th>\n",
       "      <th></th>\n",
       "      <th></th>\n",
       "      <th></th>\n",
       "    </tr>\n",
       "  </thead>\n",
       "  <tbody>\n",
       "    <tr>\n",
       "      <th>fall</th>\n",
       "      <td>95450</td>\n",
       "      <td>130641</td>\n",
       "      <td>324200</td>\n",
       "      <td>510838</td>\n",
       "    </tr>\n",
       "    <tr>\n",
       "      <th>spring</th>\n",
       "      <td>21396</td>\n",
       "      <td>39197</td>\n",
       "      <td>128520</td>\n",
       "      <td>282151</td>\n",
       "    </tr>\n",
       "    <tr>\n",
       "      <th>summer</th>\n",
       "      <td>77564</td>\n",
       "      <td>125958</td>\n",
       "      <td>269752</td>\n",
       "      <td>445315</td>\n",
       "    </tr>\n",
       "    <tr>\n",
       "      <th>winter</th>\n",
       "      <td>52813</td>\n",
       "      <td>76969</td>\n",
       "      <td>273324</td>\n",
       "      <td>438507</td>\n",
       "    </tr>\n",
       "  </tbody>\n",
       "</table>\n",
       "</div>"
      ],
      "text/plain": [
       "       casual         registered        \n",
       "year     2011    2012       2011    2012\n",
       "season                                  \n",
       "fall    95450  130641     324200  510838\n",
       "spring  21396   39197     128520  282151\n",
       "summer  77564  125958     269752  445315\n",
       "winter  52813   76969     273324  438507"
      ]
     },
     "execution_count": 31,
     "metadata": {},
     "output_type": "execute_result"
    }
   ],
   "source": [
    "both_group_df = both_group.unstack(level = 0)\n",
    "both_group_df"
   ]
  },
  {
   "cell_type": "code",
   "execution_count": 32,
   "id": "df771227",
   "metadata": {
    "id": "4e8d492e-b494-4475-ac35-614fc22b3313"
   },
   "outputs": [],
   "source": [
    "# # Casual and Registered Users Bike rents over different Seasons\n",
    "# both_group_df.plot(kind = 'bar', figsize = (10,6), color = ['sandybrown', 'lightgreen', 'coral' ,'mediumseagreen'], rot = 0, width = 0.7)\n",
    "# plt.ylabel('Rented Bike Count')\n",
    "# plt.title(\"Casual and Registered Users' Bike rents over different Seasons\")\n",
    "# plt.show()"
   ]
  },
  {
   "cell_type": "markdown",
   "id": "6b0a6f1f",
   "metadata": {
    "id": "ddaa8947-6b98-4195-8e8d-52afaa0a3894"
   },
   "source": [
    "#### The inference here is:\n",
    "#### 1. Most bikes are rented in fall, followed by summer, winter and spring in that order\n",
    "#### 2. Registred users rent the bikes more often that casual users"
   ]
  },
  {
   "cell_type": "markdown",
   "id": "31f2bafb",
   "metadata": {
    "id": "aba3605a-f3cc-44b3-a195-8479205be829"
   },
   "source": [
    "### Bikes rented by the hour over different Seasons"
   ]
  },
  {
   "cell_type": "code",
   "execution_count": 33,
   "id": "1aceff4a",
   "metadata": {
    "colab": {
     "base_uri": "https://localhost:8080/"
    },
    "id": "c7245a57-8891-40dc-8ec2-88eff58ee321",
    "outputId": "1a8ed9ca-0e10-4789-ab60-24a48e3010bd"
   },
   "outputs": [
    {
     "data": {
      "text/plain": [
       "hour  season\n",
       "0     fall      13822\n",
       "      spring     4878\n",
       "      summer    10459\n",
       "      winter     9971\n",
       "1     fall       8132\n",
       "                ...  \n",
       "22    winter    21871\n",
       "23    fall      22986\n",
       "      spring     7994\n",
       "      summer    17661\n",
       "      winter    15300\n",
       "Name: count, Length: 96, dtype: int32"
      ]
     },
     "execution_count": 33,
     "metadata": {},
     "output_type": "execute_result"
    }
   ],
   "source": [
    "# Find total bikes rented over each hour of the day during each season\n",
    "data_hour = data.groupby(['hour', 'season'])['count'].sum()\n",
    "data_hour"
   ]
  },
  {
   "cell_type": "code",
   "execution_count": 34,
   "id": "de165c72",
   "metadata": {
    "colab": {
     "base_uri": "https://localhost:8080/",
     "height": 237
    },
    "id": "ae82093e-0d42-43bc-8840-30577b03e590",
    "outputId": "d917bdda-7b43-40d7-8db4-6f8decb75682"
   },
   "outputs": [
    {
     "data": {
      "text/html": [
       "<div>\n",
       "<style scoped>\n",
       "    .dataframe tbody tr th:only-of-type {\n",
       "        vertical-align: middle;\n",
       "    }\n",
       "\n",
       "    .dataframe tbody tr th {\n",
       "        vertical-align: top;\n",
       "    }\n",
       "\n",
       "    .dataframe thead th {\n",
       "        text-align: right;\n",
       "    }\n",
       "</style>\n",
       "<table border=\"1\" class=\"dataframe\">\n",
       "  <thead>\n",
       "    <tr style=\"text-align: right;\">\n",
       "      <th>season</th>\n",
       "      <th>fall</th>\n",
       "      <th>spring</th>\n",
       "      <th>summer</th>\n",
       "      <th>winter</th>\n",
       "    </tr>\n",
       "    <tr>\n",
       "      <th>hour</th>\n",
       "      <th></th>\n",
       "      <th></th>\n",
       "      <th></th>\n",
       "      <th></th>\n",
       "    </tr>\n",
       "  </thead>\n",
       "  <tbody>\n",
       "    <tr>\n",
       "      <th>22</th>\n",
       "      <td>34416</td>\n",
       "      <td>12440</td>\n",
       "      <td>26885</td>\n",
       "      <td>21871</td>\n",
       "    </tr>\n",
       "    <tr>\n",
       "      <th>6</th>\n",
       "      <td>18946</td>\n",
       "      <td>7261</td>\n",
       "      <td>14549</td>\n",
       "      <td>14376</td>\n",
       "    </tr>\n",
       "    <tr>\n",
       "      <th>23</th>\n",
       "      <td>22986</td>\n",
       "      <td>7994</td>\n",
       "      <td>17661</td>\n",
       "      <td>15300</td>\n",
       "    </tr>\n",
       "    <tr>\n",
       "      <th>2</th>\n",
       "      <td>5716</td>\n",
       "      <td>2175</td>\n",
       "      <td>4302</td>\n",
       "      <td>4159</td>\n",
       "    </tr>\n",
       "    <tr>\n",
       "      <th>7</th>\n",
       "      <td>52000</td>\n",
       "      <td>20655</td>\n",
       "      <td>40753</td>\n",
       "      <td>40763</td>\n",
       "    </tr>\n",
       "  </tbody>\n",
       "</table>\n",
       "</div>"
      ],
      "text/plain": [
       "season   fall  spring  summer  winter\n",
       "hour                                 \n",
       "22      34416   12440   26885   21871\n",
       "6       18946    7261   14549   14376\n",
       "23      22986    7994   17661   15300\n",
       "2        5716    2175    4302    4159\n",
       "7       52000   20655   40753   40763"
      ]
     },
     "execution_count": 34,
     "metadata": {},
     "output_type": "execute_result"
    }
   ],
   "source": [
    "data_hour_df = data_hour.unstack()\n",
    "data_hour_df.sample(5)"
   ]
  },
  {
   "cell_type": "code",
   "execution_count": 35,
   "id": "8d07cfba",
   "metadata": {
    "colab": {
     "base_uri": "https://localhost:8080/",
     "height": 564
    },
    "id": "0ba0af6b-894e-45b2-959f-4cdd93750d14",
    "outputId": "66c4fc1d-dad6-43da-861c-5c66c748bc5b"
   },
   "outputs": [
    {
     "data": {
      "image/png": "[encoded data removed]",
      "text/plain": [
       "<Figure size 1000x600 with 1 Axes>"
      ]
     },
     "metadata": {},
     "output_type": "display_data"
    }
   ],
   "source": [
    "plt.figure(figsize=(10, 6))\n",
    "\n",
    "for season in list(data_hour_df.columns):\n",
    "    plt.plot(range(len(data_hour_df)), data_hour_df[season], label=season, marker = 'X')\n",
    "plt.title('Number of Bikes rented by Hour and Season')\n",
    "plt.xlabel('Hour of the Day')\n",
    "plt.ylabel('Bikes Rented')\n",
    "plt.xticks(range(0, len(data_hour_df), 1))\n",
    "plt.legend()\n",
    "plt.show()"
   ]
  },
  {
   "cell_type": "markdown",
   "id": "9cf20b4b",
   "metadata": {
    "id": "3acc8dd4-dd08-4922-828a-e325f402cdb6"
   },
   "source": [
    "#### Maximum bikes are rented at 5 PM, followed by 8 AM. Least amount of bikes are rented between 11PM and % AM"
   ]
  },
  {
   "cell_type": "markdown",
   "id": "9f5b3e53",
   "metadata": {
    "id": "03d33d20-5a41-41cb-ad87-1572e92b6eb2"
   },
   "source": [
    "### Effect of Holiday on Bike Rent"
   ]
  },
  {
   "cell_type": "code",
   "execution_count": 36,
   "id": "5b98d840",
   "metadata": {
    "colab": {
     "base_uri": "https://localhost:8080/"
    },
    "id": "ed2b671b-ef75-42ef-9c76-fa7f9b2375e6",
    "outputId": "6089579a-f32e-44be-de44-45507f8cecf6"
   },
   "outputs": [
    {
     "data": {
      "text/plain": [
       "holiday\n",
       "No     16879\n",
       "Yes      500\n",
       "Name: count, dtype: int64"
      ]
     },
     "execution_count": 36,
     "metadata": {},
     "output_type": "execute_result"
    }
   ],
   "source": [
    "holiday_count = data['holiday'].value_counts()\n",
    "holiday_count"
   ]
  },
  {
   "cell_type": "code",
   "execution_count": 37,
   "id": "72073f45",
   "metadata": {
    "colab": {
     "base_uri": "https://localhost:8080/",
     "height": 545
    },
    "id": "53874027-b6a6-46a0-9ae2-4af536939f71",
    "outputId": "8e071120-ac46-4848-c0bf-45efe8f1924f"
   },
   "outputs": [
    {
     "data": {
      "image/png": "[encoded data removed]",
      "text/plain": [
       "<Figure size 1000x600 with 1 Axes>"
      ]
     },
     "metadata": {},
     "output_type": "display_data"
    }
   ],
   "source": [
    "# Plot holiday Count\n",
    "plt.figure(figsize = (10,6))\n",
    "ax = plt.bar(holiday_count.index, holiday_count.values, color = ['skyblue', 'grey'] )\n",
    "plt.title('Holidays and Non Holidays Count')\n",
    "plt.ylabel('Holiday Count')\n",
    "plt.show()"
   ]
  },
  {
   "cell_type": "markdown",
   "id": "8e99d961",
   "metadata": {
    "id": "3028dba8-776c-430b-8091-84c3c474b249"
   },
   "source": [
    "#### Non Holidays are significantly higher than holidays\n",
    "#### We find mean of total bikes rented and not the total counts as holidays and non holidays are not equal"
   ]
  },
  {
   "cell_type": "code",
   "execution_count": 38,
   "id": "895b4780",
   "metadata": {
    "colab": {
     "base_uri": "https://localhost:8080/"
    },
    "id": "d6e4cab8-742a-4aa0-8b2c-32b036ab22df",
    "outputId": "77395783-9e13-46af-b624-d9aa6b99404c"
   },
   "outputs": [
    {
     "data": {
      "text/plain": [
       "holiday  season\n",
       "No       fall      235.976818\n",
       "         spring    112.685875\n",
       "         summer    208.428472\n",
       "         winter    199.965998\n",
       "Yes      fall      237.822917\n",
       "         spring     72.042683\n",
       "         summer    204.552083\n",
       "         winter    167.722222\n",
       "Name: count, dtype: float64"
      ]
     },
     "execution_count": 38,
     "metadata": {},
     "output_type": "execute_result"
    }
   ],
   "source": [
    "data_holiday = data.groupby(['holiday', 'season'])['count'].mean()\n",
    "data_holiday"
   ]
  },
  {
   "cell_type": "code",
   "execution_count": 39,
   "id": "67d0b243",
   "metadata": {
    "colab": {
     "base_uri": "https://localhost:8080/",
     "height": 206
    },
    "id": "83440ab3-46d5-4505-aa29-363e1767dac6",
    "outputId": "521a4a78-fb1b-40fb-8038-fb2f2eb8428e"
   },
   "outputs": [
    {
     "data": {
      "text/html": [
       "<div>\n",
       "<style scoped>\n",
       "    .dataframe tbody tr th:only-of-type {\n",
       "        vertical-align: middle;\n",
       "    }\n",
       "\n",
       "    .dataframe tbody tr th {\n",
       "        vertical-align: top;\n",
       "    }\n",
       "\n",
       "    .dataframe thead th {\n",
       "        text-align: right;\n",
       "    }\n",
       "</style>\n",
       "<table border=\"1\" class=\"dataframe\">\n",
       "  <thead>\n",
       "    <tr style=\"text-align: right;\">\n",
       "      <th>holiday</th>\n",
       "      <th>No</th>\n",
       "      <th>Yes</th>\n",
       "    </tr>\n",
       "    <tr>\n",
       "      <th>season</th>\n",
       "      <th></th>\n",
       "      <th></th>\n",
       "    </tr>\n",
       "  </thead>\n",
       "  <tbody>\n",
       "    <tr>\n",
       "      <th>fall</th>\n",
       "      <td>235.976818</td>\n",
       "      <td>237.822917</td>\n",
       "    </tr>\n",
       "    <tr>\n",
       "      <th>spring</th>\n",
       "      <td>112.685875</td>\n",
       "      <td>72.042683</td>\n",
       "    </tr>\n",
       "    <tr>\n",
       "      <th>summer</th>\n",
       "      <td>208.428472</td>\n",
       "      <td>204.552083</td>\n",
       "    </tr>\n",
       "    <tr>\n",
       "      <th>winter</th>\n",
       "      <td>199.965998</td>\n",
       "      <td>167.722222</td>\n",
       "    </tr>\n",
       "  </tbody>\n",
       "</table>\n",
       "</div>"
      ],
      "text/plain": [
       "holiday          No         Yes\n",
       "season                         \n",
       "fall     235.976818  237.822917\n",
       "spring   112.685875   72.042683\n",
       "summer   208.428472  204.552083\n",
       "winter   199.965998  167.722222"
      ]
     },
     "execution_count": 39,
     "metadata": {},
     "output_type": "execute_result"
    }
   ],
   "source": [
    "data_holiday_df= data_holiday.unstack(level= 0)\n",
    "data_holiday_df"
   ]
  },
  {
   "cell_type": "code",
   "execution_count": 40,
   "id": "1b643c3f",
   "metadata": {
    "colab": {
     "base_uri": "https://localhost:8080/",
     "height": 564
    },
    "id": "192b1dea-a5a8-46b2-a6ef-12643fc876e9",
    "outputId": "afd0b9b5-85e9-4978-b61f-ddadb34b925d"
   },
   "outputs": [
    {
     "data": {
      "image/png": "[encoded data removed]",
      "text/plain": [
       "<Figure size 1000x600 with 1 Axes>"
      ]
     },
     "metadata": {},
     "output_type": "display_data"
    }
   ],
   "source": [
    "# Plot the graph\n",
    "ax = data_holiday_df.plot(kind = 'bar', figsize = (10,6), color = ['powderblue', 'skyblue'], rot = 0, width = 0.8)\n",
    "plt.ylabel('Average Rented Bike Count')\n",
    "plt.title('Average Rented Bike count on Non Holidays and Holidays')\n",
    "for container in ax.containers:\n",
    "    ax.bar_label(container)\n",
    "plt.show()"
   ]
  },
  {
   "cell_type": "markdown",
   "id": "164ad521",
   "metadata": {
    "id": "d61bb30b-4b54-4c58-8e0b-4d7f527ebf21"
   },
   "source": [
    "#### Average count of rented bikes between holidays and non holidays is almost similar, except for a small difference in spring and winter where more bikes are hired on non-holidays\n",
    "#### Holiday or No Holiday does not have a big effect on bikes rented"
   ]
  },
  {
   "cell_type": "code",
   "execution_count": 41,
   "id": "7cb887eb",
   "metadata": {
    "colab": {
     "base_uri": "https://localhost:8080/",
     "height": 331
    },
    "id": "bd39c607-9840-41bc-a022-32fa85cb41ea",
    "outputId": "f6ac55cb-6005-47e2-d6d4-122024bf731b"
   },
   "outputs": [
    {
     "data": {
      "text/html": [
       "<div>\n",
       "<style scoped>\n",
       "    .dataframe tbody tr th:only-of-type {\n",
       "        vertical-align: middle;\n",
       "    }\n",
       "\n",
       "    .dataframe tbody tr th {\n",
       "        vertical-align: top;\n",
       "    }\n",
       "\n",
       "    .dataframe thead th {\n",
       "        text-align: right;\n",
       "    }\n",
       "</style>\n",
       "<table border=\"1\" class=\"dataframe\">\n",
       "  <thead>\n",
       "    <tr style=\"text-align: right;\">\n",
       "      <th></th>\n",
       "      <th></th>\n",
       "      <th>casual</th>\n",
       "      <th>registered</th>\n",
       "    </tr>\n",
       "    <tr>\n",
       "      <th>holiday</th>\n",
       "      <th>season</th>\n",
       "      <th></th>\n",
       "      <th></th>\n",
       "    </tr>\n",
       "  </thead>\n",
       "  <tbody>\n",
       "    <tr>\n",
       "      <th rowspan=\"4\" valign=\"top\">No</th>\n",
       "      <th>fall</th>\n",
       "      <td>49.377955</td>\n",
       "      <td>186.598864</td>\n",
       "    </tr>\n",
       "    <tr>\n",
       "      <th>spring</th>\n",
       "      <td>14.336031</td>\n",
       "      <td>98.356880</td>\n",
       "    </tr>\n",
       "    <tr>\n",
       "      <th>summer</th>\n",
       "      <td>45.809413</td>\n",
       "      <td>162.619059</td>\n",
       "    </tr>\n",
       "    <tr>\n",
       "      <th>winter</th>\n",
       "      <td>30.416341</td>\n",
       "      <td>169.549658</td>\n",
       "    </tr>\n",
       "    <tr>\n",
       "      <th rowspan=\"4\" valign=\"top\">Yes</th>\n",
       "      <th>fall</th>\n",
       "      <td>91.958333</td>\n",
       "      <td>145.864583</td>\n",
       "    </tr>\n",
       "    <tr>\n",
       "      <th>spring</th>\n",
       "      <td>13.079268</td>\n",
       "      <td>58.963415</td>\n",
       "    </tr>\n",
       "    <tr>\n",
       "      <th>summer</th>\n",
       "      <td>61.937500</td>\n",
       "      <td>142.614583</td>\n",
       "    </tr>\n",
       "    <tr>\n",
       "      <th>winter</th>\n",
       "      <td>37.777778</td>\n",
       "      <td>129.944444</td>\n",
       "    </tr>\n",
       "  </tbody>\n",
       "</table>\n",
       "</div>"
      ],
      "text/plain": [
       "                   casual  registered\n",
       "holiday season                       \n",
       "No      fall    49.377955  186.598864\n",
       "        spring  14.336031   98.356880\n",
       "        summer  45.809413  162.619059\n",
       "        winter  30.416341  169.549658\n",
       "Yes     fall    91.958333  145.864583\n",
       "        spring  13.079268   58.963415\n",
       "        summer  61.937500  142.614583\n",
       "        winter  37.777778  129.944444"
      ]
     },
     "execution_count": 41,
     "metadata": {},
     "output_type": "execute_result"
    }
   ],
   "source": [
    "data_holiday_both = data_edit.groupby(['holiday', 'season'])[['casual','registered']].mean() # data_edit is used to remove row with -1 placeh holder\n",
    "data_holiday_both"
   ]
  },
  {
   "cell_type": "code",
   "execution_count": 42,
   "id": "c87da653",
   "metadata": {
    "colab": {
     "base_uri": "https://localhost:8080/",
     "height": 237
    },
    "id": "bfa6e78c-31b9-4498-b91a-e16be14c62ca",
    "outputId": "061322b8-23b4-4c22-903a-0359a251fc1c"
   },
   "outputs": [
    {
     "data": {
      "text/html": [
       "<div>\n",
       "<style scoped>\n",
       "    .dataframe tbody tr th:only-of-type {\n",
       "        vertical-align: middle;\n",
       "    }\n",
       "\n",
       "    .dataframe tbody tr th {\n",
       "        vertical-align: top;\n",
       "    }\n",
       "\n",
       "    .dataframe thead tr th {\n",
       "        text-align: left;\n",
       "    }\n",
       "\n",
       "    .dataframe thead tr:last-of-type th {\n",
       "        text-align: right;\n",
       "    }\n",
       "</style>\n",
       "<table border=\"1\" class=\"dataframe\">\n",
       "  <thead>\n",
       "    <tr>\n",
       "      <th></th>\n",
       "      <th colspan=\"2\" halign=\"left\">casual</th>\n",
       "      <th colspan=\"2\" halign=\"left\">registered</th>\n",
       "    </tr>\n",
       "    <tr>\n",
       "      <th>holiday</th>\n",
       "      <th>No</th>\n",
       "      <th>Yes</th>\n",
       "      <th>No</th>\n",
       "      <th>Yes</th>\n",
       "    </tr>\n",
       "    <tr>\n",
       "      <th>season</th>\n",
       "      <th></th>\n",
       "      <th></th>\n",
       "      <th></th>\n",
       "      <th></th>\n",
       "    </tr>\n",
       "  </thead>\n",
       "  <tbody>\n",
       "    <tr>\n",
       "      <th>fall</th>\n",
       "      <td>49.377955</td>\n",
       "      <td>91.958333</td>\n",
       "      <td>186.598864</td>\n",
       "      <td>145.864583</td>\n",
       "    </tr>\n",
       "    <tr>\n",
       "      <th>spring</th>\n",
       "      <td>14.336031</td>\n",
       "      <td>13.079268</td>\n",
       "      <td>98.356880</td>\n",
       "      <td>58.963415</td>\n",
       "    </tr>\n",
       "    <tr>\n",
       "      <th>summer</th>\n",
       "      <td>45.809413</td>\n",
       "      <td>61.937500</td>\n",
       "      <td>162.619059</td>\n",
       "      <td>142.614583</td>\n",
       "    </tr>\n",
       "    <tr>\n",
       "      <th>winter</th>\n",
       "      <td>30.416341</td>\n",
       "      <td>37.777778</td>\n",
       "      <td>169.549658</td>\n",
       "      <td>129.944444</td>\n",
       "    </tr>\n",
       "  </tbody>\n",
       "</table>\n",
       "</div>"
      ],
      "text/plain": [
       "            casual             registered            \n",
       "holiday         No        Yes          No         Yes\n",
       "season                                               \n",
       "fall     49.377955  91.958333  186.598864  145.864583\n",
       "spring   14.336031  13.079268   98.356880   58.963415\n",
       "summer   45.809413  61.937500  162.619059  142.614583\n",
       "winter   30.416341  37.777778  169.549658  129.944444"
      ]
     },
     "execution_count": 42,
     "metadata": {},
     "output_type": "execute_result"
    }
   ],
   "source": [
    "data_holiday_both_df = data_holiday_both.unstack(level =0)\n",
    "data_holiday_both_df"
   ]
  },
  {
   "cell_type": "code",
   "execution_count": 43,
   "id": "201fa9c2",
   "metadata": {
    "colab": {
     "base_uri": "https://localhost:8080/",
     "height": 684
    },
    "id": "f13c8592-dcdb-449c-8e3d-1df1a362c2ad",
    "outputId": "bf3e599f-ef7f-4c9f-e03e-29a0a8e12601"
   },
   "outputs": [
    {
     "name": "stdout",
     "output_type": "stream",
     "text": [
      "\n",
      "\n"
     ]
    },
    {
     "data": {
      "image/png": "[encoded data removed]",
      "text/plain": [
       "<Figure size 1000x300 with 1 Axes>"
      ]
     },
     "metadata": {},
     "output_type": "display_data"
    },
    {
     "data": {
      "image/png": "[encoded data removed]",
      "text/plain": [
       "<Figure size 1000x300 with 1 Axes>"
      ]
     },
     "metadata": {},
     "output_type": "display_data"
    }
   ],
   "source": [
    "data_holiday_both_df['casual'].plot(kind = 'bar', color = [ 'thistle', 'rebeccapurple'], rot = 0, figsize=(10, 3) )\n",
    "plt.title('Change in Average bikes rented over non-holidays and holidays by Casual Users')\n",
    "print('\\n')\n",
    "data_holiday_both_df['registered'].plot(kind = 'bar', color = [ 'thistle', 'rebeccapurple'], rot = 0, figsize=(10, 3) )\n",
    "plt.title('Change in Average bikes rented over non-holidays and holidays by Registered Users')\n",
    "plt.show()"
   ]
  },
  {
   "cell_type": "markdown",
   "id": "f3389a84",
   "metadata": {
    "id": "43ff83a9-c301-4215-8d80-b007080ef547"
   },
   "source": [
    "#### 1. More bikes were rented by casual users over holidays as compared with non- holidays\n",
    "#### 2. Registered users rented more on non holidays"
   ]
  },
  {
   "cell_type": "markdown",
   "id": "ba2db052",
   "metadata": {
    "id": "914b8591-aaae-43c7-a075-ca3696fec69e"
   },
   "source": [
    "### Weekday and the bikes rented over different days"
   ]
  },
  {
   "cell_type": "code",
   "execution_count": 44,
   "id": "8cfe7bfb",
   "metadata": {
    "colab": {
     "base_uri": "https://localhost:8080/"
    },
    "id": "80b32082-518c-478f-95d8-f1ee8e007127",
    "outputId": "94867a9d-f1ea-4c0b-96c2-4af1adac33aa"
   },
   "outputs": [
    {
     "data": {
      "text/plain": [
       "weekday\n",
       "0    177.468825\n",
       "1    183.744655\n",
       "2    191.238891\n",
       "3    191.130505\n",
       "4    196.436665\n",
       "5    196.135907\n",
       "6    190.209793\n",
       "Name: count, dtype: float64"
      ]
     },
     "execution_count": 44,
     "metadata": {},
     "output_type": "execute_result"
    }
   ],
   "source": [
    "# Find average bikes rented over days of the week\n",
    "data_weekday = data.groupby('weekday')['count'].mean()\n",
    "data_weekday"
   ]
  },
  {
   "cell_type": "code",
   "execution_count": 45,
   "id": "8b2961d8",
   "metadata": {
    "colab": {
     "base_uri": "https://localhost:8080/",
     "height": 472
    },
    "id": "7eaaf180-ee0c-4dff-8d91-77602b026261",
    "outputId": "837d5588-45e0-42f1-8fa1-0d39d1af22ff"
   },
   "outputs": [
    {
     "data": {
      "image/png": "[encoded data removed]",
      "text/plain": [
       "<Figure size 640x480 with 1 Axes>"
      ]
     },
     "metadata": {},
     "output_type": "display_data"
    }
   ],
   "source": [
    "# plot for average bikes rented over days of week\n",
    "data_weekday.plot(kind = 'bar', rot = 0, color = 'seagreen')\n",
    "plt.ylabel('Average Rented Bike Count')\n",
    "plt.title('Average Bikes rented over different Days of the Week')\n",
    "plt.show()"
   ]
  },
  {
   "cell_type": "markdown",
   "id": "712ec440",
   "metadata": {
    "id": "ebd67fba-7717-40a0-8870-d373125356b6"
   },
   "source": [
    "#### Average bikes rented over each day of the week are almost similar"
   ]
  },
  {
   "cell_type": "markdown",
   "id": "f4ea6d47",
   "metadata": {
    "id": "05eece8d-5858-421e-801d-a12579f2ce98"
   },
   "source": [
    "### Weather Effects"
   ]
  },
  {
   "cell_type": "code",
   "execution_count": 46,
   "id": "81cee938",
   "metadata": {
    "colab": {
     "base_uri": "https://localhost:8080/",
     "height": 487
    },
    "id": "5cd19b2a-cec5-4b5b-8e12-ac3f31191e2e",
    "outputId": "72038449-ab7c-4e0e-fc4f-406481139b0d"
   },
   "outputs": [
    {
     "data": {
      "image/png": "[encoded data removed]",
      "text/plain": [
       "<Figure size 1200x500 with 1 Axes>"
      ]
     },
     "metadata": {},
     "output_type": "display_data"
    }
   ],
   "source": [
    "# Distribution of weather type\n",
    "fig = plt.figure(figsize= (12,5))\n",
    "ax = sns.countplot(data =data, x = 'weather', palette = 'pastel', order = data['weather'].value_counts().index)\n",
    "for container in ax.containers:\n",
    "    ax.bar_label(container)\n",
    "plt.title('Weather Type', fontsize =12)\n",
    "plt.ylabel('Count')\n",
    "plt.ylim(0,12500)\n",
    "plt.show()"
   ]
  },
  {
   "cell_type": "code",
   "execution_count": 47,
   "id": "2e8daddb",
   "metadata": {
    "colab": {
     "base_uri": "https://localhost:8080/"
    },
    "id": "e44d3ee0-8b14-4ab5-8a72-ff7ff2c8a77b",
    "outputId": "878b3dea-96ff-43a4-a644-0447e828ca46"
   },
   "outputs": [
    {
     "data": {
      "text/plain": [
       "weather\n",
       "Clear          204.887049\n",
       "Heavy Rain      74.333333\n",
       "Light Snow     111.579281\n",
       "Mist           175.260515\n",
       "unavailable     24.000000\n",
       "Name: count, dtype: float64"
      ]
     },
     "execution_count": 47,
     "metadata": {},
     "output_type": "execute_result"
    }
   ],
   "source": [
    "# Find average bikes rented based on weather\n",
    "data_weather = data.groupby('weather')['count'].mean()\n",
    "data_weather"
   ]
  },
  {
   "cell_type": "code",
   "execution_count": 48,
   "id": "db84f75a",
   "metadata": {
    "colab": {
     "base_uri": "https://localhost:8080/",
     "height": 472
    },
    "id": "755eff9b-e357-46dd-bd82-16904d50f627",
    "outputId": "0b479a15-c69b-44de-e484-3adcabccadb7"
   },
   "outputs": [
    {
     "data": {
      "image/png": "[encoded data removed]",
      "text/plain": [
       "<Figure size 640x480 with 1 Axes>"
      ]
     },
     "metadata": {},
     "output_type": "display_data"
    }
   ],
   "source": [
    "# Plot average bikes rented by the weather type\n",
    "data_weather.plot(kind = 'bar', rot = 0, color = 'LightSeaGreen')\n",
    "plt.ylabel('Average Rented Bike Count')\n",
    "plt.title('Average Bikes rented based on Weather type')\n",
    "plt.show()"
   ]
  },
  {
   "cell_type": "markdown",
   "id": "2039ffc4",
   "metadata": {
    "id": "ef195504-3a4f-4bcf-8b11-a7583808d6a0"
   },
   "source": [
    "#### Most bikes are rented on a clear day, followed by a day with mist and then light snow. Leat amount of bikes are rented during heavy rains"
   ]
  },
  {
   "cell_type": "markdown",
   "id": "fca99e1b",
   "metadata": {
    "id": "2191dba2-45bb-4d2b-85c6-b08aec9bc039"
   },
   "source": [
    "### Temperature Variation"
   ]
  },
  {
   "cell_type": "code",
   "execution_count": 49,
   "id": "7a752e29",
   "metadata": {
    "id": "44e286b3-1fc9-42df-9fe0-60bbd0e4a754"
   },
   "outputs": [],
   "source": [
    "data_temp = data.groupby('weather')['temp'].apply(list)"
   ]
  },
  {
   "cell_type": "code",
   "execution_count": 50,
   "id": "1f33692f",
   "metadata": {
    "colab": {
     "base_uri": "https://localhost:8080/",
     "height": 507
    },
    "id": "04f11aad-64d0-428c-9705-255b5eb75e2d",
    "outputId": "3b48d0c4-e7cb-49fd-cf2e-87bdc075ab33"
   },
   "outputs": [
    {
     "data": {
      "image/png": "[encoded data removed]",
      "text/plain": [
       "<Figure size 1000x500 with 4 Axes>"
      ]
     },
     "metadata": {},
     "output_type": "display_data"
    }
   ],
   "source": [
    "weather_type = ['Clear', 'Heavy Rain', 'Light Snow', 'Mist']\n",
    "color = ['orangered', 'darksalmon', 'peru', 'darkorange']\n",
    "\n",
    "fig, axes = plt.subplots(2, 2, figsize=(10, 5))\n",
    "axes = axes.flatten()\n",
    "for i in range(len(weather_type)):\n",
    "    sns.histplot(data_temp[weather_type[i]], kde=True, color=color[i], ax=axes[i])\n",
    "    axes[i].set_title(weather_type[i])\n",
    "\n",
    "plt.tight_layout()\n",
    "plt.show()"
   ]
  },
  {
   "cell_type": "markdown",
   "id": "93129136",
   "metadata": {
    "id": "1899f207-5420-499d-a723-56fa4f8089f9"
   },
   "source": [
    "#### On days when the weather is Clear, has Heavy Rain or Mist, the temperature has a variation across the spectrum. On Heavy Rain days however the tenperature varies between a normalised value of 0.22 and 0.14"
   ]
  },
  {
   "cell_type": "markdown",
   "id": "8cff5439",
   "metadata": {
    "id": "27a2fbdb-f2d6-4e31-b119-27b1f6f78f4f"
   },
   "source": [
    "### Humidity Variation"
   ]
  },
  {
   "cell_type": "code",
   "execution_count": 51,
   "id": "ed2d1a9f",
   "metadata": {
    "colab": {
     "base_uri": "https://localhost:8080/"
    },
    "id": "4c140f34-67b9-4ae4-8ee0-df5a24c2b5e1",
    "outputId": "7b2bffce-4855-4abe-844d-aa72f3f88695"
   },
   "outputs": [
    {
     "data": {
      "text/plain": [
       "weather\n",
       "Clear          [0.81, 0.8, 0.775, 0.75, 0.75, 0.86, 0.75, 0.7...\n",
       "Heavy Rain                                    [0.93, 0.86, 0.86]\n",
       "Light Snow     [0.88, 0.88, 0.77, 0.71, 0.76, 0.81, 0.71, 0.5...\n",
       "Mist           [0.75, 0.72, 0.72, 0.77, 0.82, 0.82, 0.87, 0.8...\n",
       "unavailable                              [0.8, 0.56, 0.47, 0.87]\n",
       "Name: humidity, dtype: object"
      ]
     },
     "execution_count": 51,
     "metadata": {},
     "output_type": "execute_result"
    }
   ],
   "source": [
    "data_hum = data.groupby('weather')['humidity'].apply(list)\n",
    "data_hum"
   ]
  },
  {
   "cell_type": "code",
   "execution_count": 52,
   "id": "19978e77",
   "metadata": {
    "colab": {
     "base_uri": "https://localhost:8080/",
     "height": 507
    },
    "id": "b5087f04-7fbb-4e88-a123-7f7e88bff7be",
    "outputId": "098d2fff-08f5-44ff-df40-5aca8edf3fa9"
   },
   "outputs": [
    {
     "data": {
      "image/png": "[encoded data removed]",
      "text/plain": [
       "<Figure size 1000x500 with 4 Axes>"
      ]
     },
     "metadata": {},
     "output_type": "display_data"
    }
   ],
   "source": [
    "weather_type = ['Clear', 'Heavy Rain', 'Light Snow', 'Mist']\n",
    "color = ['teal', 'Aquamarine', 'DarkTurquoise', 'CadetBlue']\n",
    "\n",
    "fig, axes = plt.subplots(2,2, figsize=(10,5))\n",
    "axes = axes.flatten()\n",
    "for i in range(len(weather_type)):\n",
    "    sns.histplot(data_hum.loc[weather_type[i]], kde=True, color=color[i], ax=axes[i])\n",
    "    axes[i].set_title(weather_type[i])\n",
    "\n",
    "plt.tight_layout()\n",
    "plt.show()"
   ]
  },
  {
   "cell_type": "markdown",
   "id": "442dc6af",
   "metadata": {
    "id": "237a4ea1-f740-49d6-a37b-03aa8c5568de"
   },
   "source": [
    "#### Clear days have a wide range of humidity values, heavy rains days have a specific humidity, light snow and mist days have higher humidity"
   ]
  },
  {
   "cell_type": "markdown",
   "id": "877993e0",
   "metadata": {
    "id": "78516dbb-6427-4946-9f26-bf907d782d3a"
   },
   "source": [
    "### Heat Map"
   ]
  },
  {
   "cell_type": "code",
   "execution_count": 53,
   "id": "f11e1f42",
   "metadata": {
    "colab": {
     "base_uri": "https://localhost:8080/",
     "height": 206
    },
    "id": "b2dd8d9f-f39d-41db-8b9e-2c9697767a32",
    "outputId": "456b96c8-8aec-4430-b132-51adb8d08b5f"
   },
   "outputs": [
    {
     "data": {
      "text/html": [
       "<div>\n",
       "<style scoped>\n",
       "    .dataframe tbody tr th:only-of-type {\n",
       "        vertical-align: middle;\n",
       "    }\n",
       "\n",
       "    .dataframe tbody tr th {\n",
       "        vertical-align: top;\n",
       "    }\n",
       "\n",
       "    .dataframe thead th {\n",
       "        text-align: right;\n",
       "    }\n",
       "</style>\n",
       "<table border=\"1\" class=\"dataframe\">\n",
       "  <thead>\n",
       "    <tr style=\"text-align: right;\">\n",
       "      <th></th>\n",
       "      <th>temp</th>\n",
       "      <th>temp_feel</th>\n",
       "      <th>humidity</th>\n",
       "      <th>windspeed</th>\n",
       "      <th>casual</th>\n",
       "      <th>registered</th>\n",
       "      <th>count</th>\n",
       "    </tr>\n",
       "  </thead>\n",
       "  <tbody>\n",
       "    <tr>\n",
       "      <th>11784</th>\n",
       "      <td>0.42</td>\n",
       "      <td>0.4242</td>\n",
       "      <td>0.47</td>\n",
       "      <td>0.1642</td>\n",
       "      <td>3</td>\n",
       "      <td>23</td>\n",
       "      <td>26</td>\n",
       "    </tr>\n",
       "    <tr>\n",
       "      <th>13439</th>\n",
       "      <td>0.72</td>\n",
       "      <td>0.6818</td>\n",
       "      <td>0.70</td>\n",
       "      <td>0.1045</td>\n",
       "      <td>0</td>\n",
       "      <td>8</td>\n",
       "      <td>8</td>\n",
       "    </tr>\n",
       "    <tr>\n",
       "      <th>8421</th>\n",
       "      <td>0.46</td>\n",
       "      <td>0.4545</td>\n",
       "      <td>0.63</td>\n",
       "      <td>0.0000</td>\n",
       "      <td>21</td>\n",
       "      <td>167</td>\n",
       "      <td>188</td>\n",
       "    </tr>\n",
       "    <tr>\n",
       "      <th>15449</th>\n",
       "      <td>0.46</td>\n",
       "      <td>0.4545</td>\n",
       "      <td>0.55</td>\n",
       "      <td>0.2985</td>\n",
       "      <td>27</td>\n",
       "      <td>170</td>\n",
       "      <td>197</td>\n",
       "    </tr>\n",
       "    <tr>\n",
       "      <th>3892</th>\n",
       "      <td>0.60</td>\n",
       "      <td>0.6212</td>\n",
       "      <td>0.56</td>\n",
       "      <td>0.0896</td>\n",
       "      <td>1</td>\n",
       "      <td>4</td>\n",
       "      <td>5</td>\n",
       "    </tr>\n",
       "  </tbody>\n",
       "</table>\n",
       "</div>"
      ],
      "text/plain": [
       "       temp  temp_feel  humidity  windspeed  casual  registered  count\n",
       "11784  0.42     0.4242      0.47     0.1642       3          23     26\n",
       "13439  0.72     0.6818      0.70     0.1045       0           8      8\n",
       "8421   0.46     0.4545      0.63     0.0000      21         167    188\n",
       "15449  0.46     0.4545      0.55     0.2985      27         170    197\n",
       "3892   0.60     0.6212      0.56     0.0896       1           4      5"
      ]
     },
     "execution_count": 53,
     "metadata": {},
     "output_type": "execute_result"
    }
   ],
   "source": [
    "# DataFrame with continuous data\n",
    "data_num = data[['temp', 'temp_feel', 'humidity','windspeed', 'casual', 'registered', 'count']].copy() # numerical values\n",
    "data_num.sample(5)"
   ]
  },
  {
   "cell_type": "code",
   "execution_count": 54,
   "id": "d3498112",
   "metadata": {
    "colab": {
     "base_uri": "https://localhost:8080/",
     "height": 699
    },
    "id": "841ca3f9-e357-4ff8-9684-500e8568f7f0",
    "outputId": "d8fb1003-ea32-408d-8986-f5bc56433db8"
   },
   "outputs": [
    {
     "data": {
      "image/png": "[encoded data removed]",
      "text/plain": [
       "<Figure size 1200x800 with 2 Axes>"
      ]
     },
     "metadata": {},
     "output_type": "display_data"
    }
   ],
   "source": [
    "plt.figure(figsize=(12, 8))\n",
    "sns.heatmap(data_num.corr(), annot=True, cmap='plasma', fmt=\".2f\")\n",
    "plt.title('Correlation Matrix')\n",
    "plt.show()"
   ]
  },
  {
   "cell_type": "markdown",
   "id": "7efdd59a",
   "metadata": {
    "id": "dd9727fc-b084-449d-8991-498ceb44b61b"
   },
   "source": [
    "#### There is a moderate positive correlation between bikes rented and normalized temperature and feels-like temperature\n",
    "#### There is a moderate negative correlation between humidity and bikes rented\n",
    "#### Windspeed almost has no correlation with bikes rented"
   ]
  },
  {
   "cell_type": "markdown",
   "id": "a3c49a88",
   "metadata": {
    "id": "4eb96d89-e9d8-4af8-8488-84ef7c15aaec"
   },
   "source": [
    "### Finding Outliers"
   ]
  },
  {
   "cell_type": "code",
   "execution_count": 55,
   "id": "4e1af75c",
   "metadata": {
    "colab": {
     "base_uri": "https://localhost:8080/"
    },
    "id": "8ed5a5ca-40eb-4c43-afa8-cff90910f3aa",
    "outputId": "0ac9784a-807f-4d59-c16a-009665c83c46"
   },
   "outputs": [
    {
     "data": {
      "text/plain": [
       "array([[0.01086957, 0.01578354, 0.01536885],\n",
       "       [0.02445652, 0.03720406, 0.03995902],\n",
       "       [0.01630435, 0.03156708, 0.0317623 ],\n",
       "       ...,\n",
       "       [0.02173913, 0.09470124, 0.09118852],\n",
       "       [0.03804348, 0.05524239, 0.06147541],\n",
       "       [0.03532609, 0.04284104, 0.04918033]])"
      ]
     },
     "execution_count": 55,
     "metadata": {},
     "output_type": "execute_result"
    }
   ],
   "source": [
    "from sklearn.preprocessing import MinMaxScaler\n",
    "\n",
    "# Normalize the Bike rent counts to find outliers with the other normalized data\n",
    "scaler = MinMaxScaler()\n",
    "norm = scaler.fit_transform(data[['casual', 'registered', 'count']])\n",
    "norm"
   ]
  },
  {
   "cell_type": "code",
   "execution_count": 56,
   "id": "e5ecc16f",
   "metadata": {
    "id": "e22fb9ec-25fb-4607-8543-2c0715215c00"
   },
   "outputs": [],
   "source": [
    "temp_df = pd.DataFrame(norm, columns = ['casual', 'registered', 'count']) # make a dataframe with column names for normalised data\n",
    "data_normalized = pd.concat([data_num[['temp', 'temp_feel', 'humidity','windspeed']], temp_df], axis = 1) # concat the normalized datafrmae into one"
   ]
  },
  {
   "cell_type": "code",
   "execution_count": 57,
   "id": "265375cd",
   "metadata": {
    "colab": {
     "base_uri": "https://localhost:8080/",
     "height": 206
    },
    "id": "f15c1274-52c2-4d12-8e11-2726e4ec6310",
    "outputId": "b98aedc2-3938-472c-b6a9-9eb00d5a8ec7"
   },
   "outputs": [
    {
     "data": {
      "text/html": [
       "<div>\n",
       "<style scoped>\n",
       "    .dataframe tbody tr th:only-of-type {\n",
       "        vertical-align: middle;\n",
       "    }\n",
       "\n",
       "    .dataframe tbody tr th {\n",
       "        vertical-align: top;\n",
       "    }\n",
       "\n",
       "    .dataframe thead th {\n",
       "        text-align: right;\n",
       "    }\n",
       "</style>\n",
       "<table border=\"1\" class=\"dataframe\">\n",
       "  <thead>\n",
       "    <tr style=\"text-align: right;\">\n",
       "      <th></th>\n",
       "      <th>temp</th>\n",
       "      <th>temp_feel</th>\n",
       "      <th>humidity</th>\n",
       "      <th>windspeed</th>\n",
       "      <th>casual</th>\n",
       "      <th>registered</th>\n",
       "      <th>count</th>\n",
       "    </tr>\n",
       "  </thead>\n",
       "  <tbody>\n",
       "    <tr>\n",
       "      <th>0</th>\n",
       "      <td>0.24</td>\n",
       "      <td>0.2879</td>\n",
       "      <td>0.810</td>\n",
       "      <td>0.0</td>\n",
       "      <td>0.010870</td>\n",
       "      <td>0.015784</td>\n",
       "      <td>0.015369</td>\n",
       "    </tr>\n",
       "    <tr>\n",
       "      <th>1</th>\n",
       "      <td>0.22</td>\n",
       "      <td>0.2727</td>\n",
       "      <td>0.800</td>\n",
       "      <td>0.0</td>\n",
       "      <td>0.024457</td>\n",
       "      <td>0.037204</td>\n",
       "      <td>0.039959</td>\n",
       "    </tr>\n",
       "    <tr>\n",
       "      <th>2</th>\n",
       "      <td>0.22</td>\n",
       "      <td>0.2727</td>\n",
       "      <td>0.775</td>\n",
       "      <td>0.0</td>\n",
       "      <td>0.016304</td>\n",
       "      <td>0.031567</td>\n",
       "      <td>0.031762</td>\n",
       "    </tr>\n",
       "    <tr>\n",
       "      <th>3</th>\n",
       "      <td>0.24</td>\n",
       "      <td>0.2879</td>\n",
       "      <td>0.750</td>\n",
       "      <td>0.0</td>\n",
       "      <td>0.010870</td>\n",
       "      <td>0.012401</td>\n",
       "      <td>0.012295</td>\n",
       "    </tr>\n",
       "    <tr>\n",
       "      <th>4</th>\n",
       "      <td>0.24</td>\n",
       "      <td>0.2879</td>\n",
       "      <td>0.750</td>\n",
       "      <td>0.0</td>\n",
       "      <td>0.002717</td>\n",
       "      <td>0.002255</td>\n",
       "      <td>0.000000</td>\n",
       "    </tr>\n",
       "  </tbody>\n",
       "</table>\n",
       "</div>"
      ],
      "text/plain": [
       "   temp  temp_feel  humidity  windspeed    casual  registered     count\n",
       "0  0.24     0.2879     0.810        0.0  0.010870    0.015784  0.015369\n",
       "1  0.22     0.2727     0.800        0.0  0.024457    0.037204  0.039959\n",
       "2  0.22     0.2727     0.775        0.0  0.016304    0.031567  0.031762\n",
       "3  0.24     0.2879     0.750        0.0  0.010870    0.012401  0.012295\n",
       "4  0.24     0.2879     0.750        0.0  0.002717    0.002255  0.000000"
      ]
     },
     "execution_count": 57,
     "metadata": {},
     "output_type": "execute_result"
    }
   ],
   "source": [
    "data_normalized.head()"
   ]
  },
  {
   "cell_type": "code",
   "execution_count": 58,
   "id": "42245c74",
   "metadata": {
    "colab": {
     "base_uri": "https://localhost:8080/",
     "height": 545
    },
    "id": "c28dfb28-3216-489d-8607-47d8c3ff7c84",
    "outputId": "b3506dae-9eee-4070-eaff-b67c27d6a204"
   },
   "outputs": [
    {
     "data": {
      "image/png": "[encoded data removed]",
      "text/plain": [
       "<Figure size 1200x600 with 1 Axes>"
      ]
     },
     "metadata": {},
     "output_type": "display_data"
    }
   ],
   "source": [
    "# Plot outliers\n",
    "plt.figure(figsize=(12, 6))\n",
    "data_normalized.boxplot()\n",
    "plt.title('Visualization of Outliers')\n",
    "plt.ylabel('Mormalized Value')\n",
    "plt.show()"
   ]
  },
  {
   "cell_type": "code",
   "execution_count": 59,
   "id": "f881a96d",
   "metadata": {
    "colab": {
     "base_uri": "https://localhost:8080/"
    },
    "id": "88583b3a-aef2-4e9a-bf5b-e4b0d2ce2458",
    "outputId": "baa4011c-3690-48d7-f288-2d67d6698427"
   },
   "outputs": [
    {
     "name": "stdout",
     "output_type": "stream",
     "text": [
      "Number of outliers by Feature\n"
     ]
    },
    {
     "data": {
      "text/plain": [
       "temp             0\n",
       "temp_feel        0\n",
       "humidity        22\n",
       "windspeed      341\n",
       "casual        1192\n",
       "registered     680\n",
       "count          505\n",
       "dtype: int64"
      ]
     },
     "execution_count": 59,
     "metadata": {},
     "output_type": "execute_result"
    }
   ],
   "source": [
    "# Find outliers in each Column\n",
    "Q1 = data_normalized.quantile(0.25)\n",
    "Q3 = data_normalized.quantile(0.75)\n",
    "IQR = Q3 - Q1\n",
    "\n",
    "# Define the outlier boundaries\n",
    "lower_bound = Q1 - 1.5 * IQR\n",
    "upper_bound = Q3 + 1.5 * IQR\n",
    "\n",
    "# Find outliers\n",
    "outliers = data_normalized[(data_normalized < lower_bound) | (data_normalized > upper_bound)]\n",
    "\n",
    "print(\"Number of outliers by Feature\")\n",
    "outliers.count()"
   ]
  },
  {
   "cell_type": "code",
   "execution_count": 60,
   "id": "249e6faf",
   "metadata": {
    "id": "5c739eff-4598-4f0a-9486-53087397af67"
   },
   "outputs": [],
   "source": [
    "# Percentage of Outliers in each column\n",
    "import numpy as np\n",
    "data_outlier = pd.DataFrame({'Outlier_Count' : outliers.count().values, 'Percentage': np.round((outliers.count().values/len(data))*100, 2)},\n",
    "                            index = list(outliers.count().index))"
   ]
  },
  {
   "cell_type": "code",
   "execution_count": 61,
   "id": "29664779",
   "metadata": {
    "colab": {
     "base_uri": "https://localhost:8080/",
     "height": 269
    },
    "id": "15c867cc-32e3-42a4-8931-049fe3a762b2",
    "outputId": "5f575068-9122-4ba1-9d87-9f9966b23b58"
   },
   "outputs": [
    {
     "data": {
      "text/html": [
       "<div>\n",
       "<style scoped>\n",
       "    .dataframe tbody tr th:only-of-type {\n",
       "        vertical-align: middle;\n",
       "    }\n",
       "\n",
       "    .dataframe tbody tr th {\n",
       "        vertical-align: top;\n",
       "    }\n",
       "\n",
       "    .dataframe thead th {\n",
       "        text-align: right;\n",
       "    }\n",
       "</style>\n",
       "<table border=\"1\" class=\"dataframe\">\n",
       "  <thead>\n",
       "    <tr style=\"text-align: right;\">\n",
       "      <th></th>\n",
       "      <th>Outlier_Count</th>\n",
       "      <th>Percentage</th>\n",
       "    </tr>\n",
       "  </thead>\n",
       "  <tbody>\n",
       "    <tr>\n",
       "      <th>temp</th>\n",
       "      <td>0</td>\n",
       "      <td>0.00</td>\n",
       "    </tr>\n",
       "    <tr>\n",
       "      <th>temp_feel</th>\n",
       "      <td>0</td>\n",
       "      <td>0.00</td>\n",
       "    </tr>\n",
       "    <tr>\n",
       "      <th>humidity</th>\n",
       "      <td>22</td>\n",
       "      <td>0.13</td>\n",
       "    </tr>\n",
       "    <tr>\n",
       "      <th>windspeed</th>\n",
       "      <td>341</td>\n",
       "      <td>1.96</td>\n",
       "    </tr>\n",
       "    <tr>\n",
       "      <th>casual</th>\n",
       "      <td>1192</td>\n",
       "      <td>6.86</td>\n",
       "    </tr>\n",
       "    <tr>\n",
       "      <th>registered</th>\n",
       "      <td>680</td>\n",
       "      <td>3.91</td>\n",
       "    </tr>\n",
       "    <tr>\n",
       "      <th>count</th>\n",
       "      <td>505</td>\n",
       "      <td>2.91</td>\n",
       "    </tr>\n",
       "  </tbody>\n",
       "</table>\n",
       "</div>"
      ],
      "text/plain": [
       "            Outlier_Count  Percentage\n",
       "temp                    0        0.00\n",
       "temp_feel               0        0.00\n",
       "humidity               22        0.13\n",
       "windspeed             341        1.96\n",
       "casual               1192        6.86\n",
       "registered            680        3.91\n",
       "count                 505        2.91"
      ]
     },
     "execution_count": 61,
     "metadata": {},
     "output_type": "execute_result"
    }
   ],
   "source": [
    "data_outlier"
   ]
  },
  {
   "cell_type": "code",
   "execution_count": 62,
   "id": "b0168df3",
   "metadata": {
    "colab": {
     "base_uri": "https://localhost:8080/",
     "height": 423
    },
    "id": "6883f64f-facd-4823-9b20-cbdde320971d",
    "outputId": "ecda0d41-120c-4212-c51c-ee286c02ab28"
   },
   "outputs": [
    {
     "data": {
      "text/html": [
       "<div>\n",
       "<style scoped>\n",
       "    .dataframe tbody tr th:only-of-type {\n",
       "        vertical-align: middle;\n",
       "    }\n",
       "\n",
       "    .dataframe tbody tr th {\n",
       "        vertical-align: top;\n",
       "    }\n",
       "\n",
       "    .dataframe thead th {\n",
       "        text-align: right;\n",
       "    }\n",
       "</style>\n",
       "<table border=\"1\" class=\"dataframe\">\n",
       "  <thead>\n",
       "    <tr style=\"text-align: right;\">\n",
       "      <th></th>\n",
       "      <th>date</th>\n",
       "      <th>season</th>\n",
       "      <th>year</th>\n",
       "      <th>month</th>\n",
       "      <th>hour</th>\n",
       "      <th>holiday</th>\n",
       "      <th>weekday</th>\n",
       "      <th>workingday</th>\n",
       "      <th>weather</th>\n",
       "      <th>temp</th>\n",
       "      <th>temp_feel</th>\n",
       "      <th>humidity</th>\n",
       "      <th>windspeed</th>\n",
       "      <th>casual</th>\n",
       "      <th>registered</th>\n",
       "      <th>count</th>\n",
       "    </tr>\n",
       "  </thead>\n",
       "  <tbody>\n",
       "    <tr>\n",
       "      <th>0</th>\n",
       "      <td>2011-01-01</td>\n",
       "      <td>spring</td>\n",
       "      <td>2011</td>\n",
       "      <td>1</td>\n",
       "      <td>0</td>\n",
       "      <td>No</td>\n",
       "      <td>6</td>\n",
       "      <td>No work</td>\n",
       "      <td>Clear</td>\n",
       "      <td>0.24</td>\n",
       "      <td>0.2879</td>\n",
       "      <td>0.810</td>\n",
       "      <td>0.0000</td>\n",
       "      <td>3</td>\n",
       "      <td>13</td>\n",
       "      <td>16</td>\n",
       "    </tr>\n",
       "    <tr>\n",
       "      <th>1</th>\n",
       "      <td>2011-01-01</td>\n",
       "      <td>spring</td>\n",
       "      <td>2011</td>\n",
       "      <td>1</td>\n",
       "      <td>1</td>\n",
       "      <td>No</td>\n",
       "      <td>6</td>\n",
       "      <td>No work</td>\n",
       "      <td>Clear</td>\n",
       "      <td>0.22</td>\n",
       "      <td>0.2727</td>\n",
       "      <td>0.800</td>\n",
       "      <td>0.0000</td>\n",
       "      <td>8</td>\n",
       "      <td>32</td>\n",
       "      <td>40</td>\n",
       "    </tr>\n",
       "    <tr>\n",
       "      <th>2</th>\n",
       "      <td>2011-01-01</td>\n",
       "      <td>spring</td>\n",
       "      <td>2011</td>\n",
       "      <td>1</td>\n",
       "      <td>2</td>\n",
       "      <td>No</td>\n",
       "      <td>6</td>\n",
       "      <td>No work</td>\n",
       "      <td>Clear</td>\n",
       "      <td>0.22</td>\n",
       "      <td>0.2727</td>\n",
       "      <td>0.775</td>\n",
       "      <td>0.0000</td>\n",
       "      <td>5</td>\n",
       "      <td>27</td>\n",
       "      <td>32</td>\n",
       "    </tr>\n",
       "    <tr>\n",
       "      <th>3</th>\n",
       "      <td>2011-01-01</td>\n",
       "      <td>spring</td>\n",
       "      <td>2011</td>\n",
       "      <td>1</td>\n",
       "      <td>3</td>\n",
       "      <td>No</td>\n",
       "      <td>6</td>\n",
       "      <td>No work</td>\n",
       "      <td>Clear</td>\n",
       "      <td>0.24</td>\n",
       "      <td>0.2879</td>\n",
       "      <td>0.750</td>\n",
       "      <td>0.0000</td>\n",
       "      <td>3</td>\n",
       "      <td>10</td>\n",
       "      <td>13</td>\n",
       "    </tr>\n",
       "    <tr>\n",
       "      <th>4</th>\n",
       "      <td>2011-01-01</td>\n",
       "      <td>spring</td>\n",
       "      <td>2011</td>\n",
       "      <td>1</td>\n",
       "      <td>4</td>\n",
       "      <td>No</td>\n",
       "      <td>6</td>\n",
       "      <td>No work</td>\n",
       "      <td>Clear</td>\n",
       "      <td>0.24</td>\n",
       "      <td>0.2879</td>\n",
       "      <td>0.750</td>\n",
       "      <td>0.0000</td>\n",
       "      <td>0</td>\n",
       "      <td>1</td>\n",
       "      <td>1</td>\n",
       "    </tr>\n",
       "    <tr>\n",
       "      <th>...</th>\n",
       "      <td>...</td>\n",
       "      <td>...</td>\n",
       "      <td>...</td>\n",
       "      <td>...</td>\n",
       "      <td>...</td>\n",
       "      <td>...</td>\n",
       "      <td>...</td>\n",
       "      <td>...</td>\n",
       "      <td>...</td>\n",
       "      <td>...</td>\n",
       "      <td>...</td>\n",
       "      <td>...</td>\n",
       "      <td>...</td>\n",
       "      <td>...</td>\n",
       "      <td>...</td>\n",
       "      <td>...</td>\n",
       "    </tr>\n",
       "    <tr>\n",
       "      <th>17374</th>\n",
       "      <td>2012-12-31</td>\n",
       "      <td>spring</td>\n",
       "      <td>2012</td>\n",
       "      <td>12</td>\n",
       "      <td>19</td>\n",
       "      <td>No</td>\n",
       "      <td>1</td>\n",
       "      <td>Working Day</td>\n",
       "      <td>Mist</td>\n",
       "      <td>0.26</td>\n",
       "      <td>0.2576</td>\n",
       "      <td>0.600</td>\n",
       "      <td>0.1642</td>\n",
       "      <td>11</td>\n",
       "      <td>108</td>\n",
       "      <td>119</td>\n",
       "    </tr>\n",
       "    <tr>\n",
       "      <th>17375</th>\n",
       "      <td>2012-12-31</td>\n",
       "      <td>spring</td>\n",
       "      <td>2012</td>\n",
       "      <td>12</td>\n",
       "      <td>20</td>\n",
       "      <td>No</td>\n",
       "      <td>1</td>\n",
       "      <td>Working Day</td>\n",
       "      <td>Mist</td>\n",
       "      <td>0.26</td>\n",
       "      <td>0.2576</td>\n",
       "      <td>0.600</td>\n",
       "      <td>0.1642</td>\n",
       "      <td>8</td>\n",
       "      <td>81</td>\n",
       "      <td>89</td>\n",
       "    </tr>\n",
       "    <tr>\n",
       "      <th>17376</th>\n",
       "      <td>2012-12-31</td>\n",
       "      <td>spring</td>\n",
       "      <td>2012</td>\n",
       "      <td>12</td>\n",
       "      <td>21</td>\n",
       "      <td>No</td>\n",
       "      <td>1</td>\n",
       "      <td>Working Day</td>\n",
       "      <td>Clear</td>\n",
       "      <td>0.26</td>\n",
       "      <td>0.2576</td>\n",
       "      <td>0.600</td>\n",
       "      <td>0.1642</td>\n",
       "      <td>7</td>\n",
       "      <td>83</td>\n",
       "      <td>90</td>\n",
       "    </tr>\n",
       "    <tr>\n",
       "      <th>17377</th>\n",
       "      <td>2012-12-31</td>\n",
       "      <td>spring</td>\n",
       "      <td>2012</td>\n",
       "      <td>12</td>\n",
       "      <td>22</td>\n",
       "      <td>No</td>\n",
       "      <td>1</td>\n",
       "      <td>Working Day</td>\n",
       "      <td>Clear</td>\n",
       "      <td>0.26</td>\n",
       "      <td>0.2727</td>\n",
       "      <td>0.560</td>\n",
       "      <td>0.1343</td>\n",
       "      <td>13</td>\n",
       "      <td>48</td>\n",
       "      <td>61</td>\n",
       "    </tr>\n",
       "    <tr>\n",
       "      <th>17378</th>\n",
       "      <td>2012-12-31</td>\n",
       "      <td>spring</td>\n",
       "      <td>2012</td>\n",
       "      <td>12</td>\n",
       "      <td>23</td>\n",
       "      <td>No</td>\n",
       "      <td>1</td>\n",
       "      <td>Working Day</td>\n",
       "      <td>Clear</td>\n",
       "      <td>0.26</td>\n",
       "      <td>0.2727</td>\n",
       "      <td>0.650</td>\n",
       "      <td>0.1343</td>\n",
       "      <td>12</td>\n",
       "      <td>37</td>\n",
       "      <td>49</td>\n",
       "    </tr>\n",
       "  </tbody>\n",
       "</table>\n",
       "<p>17379 rows × 16 columns</p>\n",
       "</div>"
      ],
      "text/plain": [
       "            date  season  year  month  hour holiday  weekday   workingday  \\\n",
       "0     2011-01-01  spring  2011      1     0      No        6      No work   \n",
       "1     2011-01-01  spring  2011      1     1      No        6      No work   \n",
       "2     2011-01-01  spring  2011      1     2      No        6      No work   \n",
       "3     2011-01-01  spring  2011      1     3      No        6      No work   \n",
       "4     2011-01-01  spring  2011      1     4      No        6      No work   \n",
       "...          ...     ...   ...    ...   ...     ...      ...          ...   \n",
       "17374 2012-12-31  spring  2012     12    19      No        1  Working Day   \n",
       "17375 2012-12-31  spring  2012     12    20      No        1  Working Day   \n",
       "17376 2012-12-31  spring  2012     12    21      No        1  Working Day   \n",
       "17377 2012-12-31  spring  2012     12    22      No        1  Working Day   \n",
       "17378 2012-12-31  spring  2012     12    23      No        1  Working Day   \n",
       "\n",
       "      weather  temp  temp_feel  humidity  windspeed  casual  registered  count  \n",
       "0       Clear  0.24     0.2879     0.810     0.0000       3          13     16  \n",
       "1       Clear  0.22     0.2727     0.800     0.0000       8          32     40  \n",
       "2       Clear  0.22     0.2727     0.775     0.0000       5          27     32  \n",
       "3       Clear  0.24     0.2879     0.750     0.0000       3          10     13  \n",
       "4       Clear  0.24     0.2879     0.750     0.0000       0           1      1  \n",
       "...       ...   ...        ...       ...        ...     ...         ...    ...  \n",
       "17374    Mist  0.26     0.2576     0.600     0.1642      11         108    119  \n",
       "17375    Mist  0.26     0.2576     0.600     0.1642       8          81     89  \n",
       "17376   Clear  0.26     0.2576     0.600     0.1642       7          83     90  \n",
       "17377   Clear  0.26     0.2727     0.560     0.1343      13          48     61  \n",
       "17378   Clear  0.26     0.2727     0.650     0.1343      12          37     49  \n",
       "\n",
       "[17379 rows x 16 columns]"
      ]
     },
     "execution_count": 62,
     "metadata": {},
     "output_type": "execute_result"
    }
   ],
   "source": [
    "data = data.drop('instant', axis=1)\n",
    "data"
   ]
  },
  {
   "cell_type": "markdown",
   "id": "55186e7b",
   "metadata": {
    "id": "30a95b93"
   },
   "source": [
    "### Label Encoding"
   ]
  },
  {
   "cell_type": "code",
   "execution_count": 63,
   "id": "cf98c414",
   "metadata": {
    "id": "763fc4f2"
   },
   "outputs": [],
   "source": [
    "from sklearn.preprocessing import LabelEncoder\n",
    "\n",
    "# Initialize LabelEncoder\n",
    "label_encoder = LabelEncoder()\n",
    "\n",
    "# Apply label encoding to each categorical column\n",
    "data['season'] = label_encoder.fit_transform(data['season'])\n",
    "data['holiday'] = label_encoder.fit_transform(data['holiday'])\n",
    "data['workingday'] = label_encoder.fit_transform(data['workingday'])\n",
    "data['weather'] = label_encoder.fit_transform(data['weather'])\n"
   ]
  },
  {
   "cell_type": "code",
   "execution_count": 64,
   "id": "48558cb3",
   "metadata": {
    "colab": {
     "base_uri": "https://localhost:8080/",
     "height": 423
    },
    "id": "c9545daa",
    "outputId": "757680d8-1dba-4e1f-8e1d-ae0287c0d3d2"
   },
   "outputs": [
    {
     "data": {
      "text/html": [
       "<div>\n",
       "<style scoped>\n",
       "    .dataframe tbody tr th:only-of-type {\n",
       "        vertical-align: middle;\n",
       "    }\n",
       "\n",
       "    .dataframe tbody tr th {\n",
       "        vertical-align: top;\n",
       "    }\n",
       "\n",
       "    .dataframe thead th {\n",
       "        text-align: right;\n",
       "    }\n",
       "</style>\n",
       "<table border=\"1\" class=\"dataframe\">\n",
       "  <thead>\n",
       "    <tr style=\"text-align: right;\">\n",
       "      <th></th>\n",
       "      <th>date</th>\n",
       "      <th>season</th>\n",
       "      <th>year</th>\n",
       "      <th>month</th>\n",
       "      <th>hour</th>\n",
       "      <th>holiday</th>\n",
       "      <th>weekday</th>\n",
       "      <th>workingday</th>\n",
       "      <th>weather</th>\n",
       "      <th>temp</th>\n",
       "      <th>temp_feel</th>\n",
       "      <th>humidity</th>\n",
       "      <th>windspeed</th>\n",
       "      <th>casual</th>\n",
       "      <th>registered</th>\n",
       "      <th>count</th>\n",
       "    </tr>\n",
       "  </thead>\n",
       "  <tbody>\n",
       "    <tr>\n",
       "      <th>0</th>\n",
       "      <td>2011-01-01</td>\n",
       "      <td>1</td>\n",
       "      <td>2011</td>\n",
       "      <td>1</td>\n",
       "      <td>0</td>\n",
       "      <td>0</td>\n",
       "      <td>6</td>\n",
       "      <td>0</td>\n",
       "      <td>0</td>\n",
       "      <td>0.24</td>\n",
       "      <td>0.2879</td>\n",
       "      <td>0.810</td>\n",
       "      <td>0.0000</td>\n",
       "      <td>3</td>\n",
       "      <td>13</td>\n",
       "      <td>16</td>\n",
       "    </tr>\n",
       "    <tr>\n",
       "      <th>1</th>\n",
       "      <td>2011-01-01</td>\n",
       "      <td>1</td>\n",
       "      <td>2011</td>\n",
       "      <td>1</td>\n",
       "      <td>1</td>\n",
       "      <td>0</td>\n",
       "      <td>6</td>\n",
       "      <td>0</td>\n",
       "      <td>0</td>\n",
       "      <td>0.22</td>\n",
       "      <td>0.2727</td>\n",
       "      <td>0.800</td>\n",
       "      <td>0.0000</td>\n",
       "      <td>8</td>\n",
       "      <td>32</td>\n",
       "      <td>40</td>\n",
       "    </tr>\n",
       "    <tr>\n",
       "      <th>2</th>\n",
       "      <td>2011-01-01</td>\n",
       "      <td>1</td>\n",
       "      <td>2011</td>\n",
       "      <td>1</td>\n",
       "      <td>2</td>\n",
       "      <td>0</td>\n",
       "      <td>6</td>\n",
       "      <td>0</td>\n",
       "      <td>0</td>\n",
       "      <td>0.22</td>\n",
       "      <td>0.2727</td>\n",
       "      <td>0.775</td>\n",
       "      <td>0.0000</td>\n",
       "      <td>5</td>\n",
       "      <td>27</td>\n",
       "      <td>32</td>\n",
       "    </tr>\n",
       "    <tr>\n",
       "      <th>3</th>\n",
       "      <td>2011-01-01</td>\n",
       "      <td>1</td>\n",
       "      <td>2011</td>\n",
       "      <td>1</td>\n",
       "      <td>3</td>\n",
       "      <td>0</td>\n",
       "      <td>6</td>\n",
       "      <td>0</td>\n",
       "      <td>0</td>\n",
       "      <td>0.24</td>\n",
       "      <td>0.2879</td>\n",
       "      <td>0.750</td>\n",
       "      <td>0.0000</td>\n",
       "      <td>3</td>\n",
       "      <td>10</td>\n",
       "      <td>13</td>\n",
       "    </tr>\n",
       "    <tr>\n",
       "      <th>4</th>\n",
       "      <td>2011-01-01</td>\n",
       "      <td>1</td>\n",
       "      <td>2011</td>\n",
       "      <td>1</td>\n",
       "      <td>4</td>\n",
       "      <td>0</td>\n",
       "      <td>6</td>\n",
       "      <td>0</td>\n",
       "      <td>0</td>\n",
       "      <td>0.24</td>\n",
       "      <td>0.2879</td>\n",
       "      <td>0.750</td>\n",
       "      <td>0.0000</td>\n",
       "      <td>0</td>\n",
       "      <td>1</td>\n",
       "      <td>1</td>\n",
       "    </tr>\n",
       "    <tr>\n",
       "      <th>...</th>\n",
       "      <td>...</td>\n",
       "      <td>...</td>\n",
       "      <td>...</td>\n",
       "      <td>...</td>\n",
       "      <td>...</td>\n",
       "      <td>...</td>\n",
       "      <td>...</td>\n",
       "      <td>...</td>\n",
       "      <td>...</td>\n",
       "      <td>...</td>\n",
       "      <td>...</td>\n",
       "      <td>...</td>\n",
       "      <td>...</td>\n",
       "      <td>...</td>\n",
       "      <td>...</td>\n",
       "      <td>...</td>\n",
       "    </tr>\n",
       "    <tr>\n",
       "      <th>17374</th>\n",
       "      <td>2012-12-31</td>\n",
       "      <td>1</td>\n",
       "      <td>2012</td>\n",
       "      <td>12</td>\n",
       "      <td>19</td>\n",
       "      <td>0</td>\n",
       "      <td>1</td>\n",
       "      <td>1</td>\n",
       "      <td>3</td>\n",
       "      <td>0.26</td>\n",
       "      <td>0.2576</td>\n",
       "      <td>0.600</td>\n",
       "      <td>0.1642</td>\n",
       "      <td>11</td>\n",
       "      <td>108</td>\n",
       "      <td>119</td>\n",
       "    </tr>\n",
       "    <tr>\n",
       "      <th>17375</th>\n",
       "      <td>2012-12-31</td>\n",
       "      <td>1</td>\n",
       "      <td>2012</td>\n",
       "      <td>12</td>\n",
       "      <td>20</td>\n",
       "      <td>0</td>\n",
       "      <td>1</td>\n",
       "      <td>1</td>\n",
       "      <td>3</td>\n",
       "      <td>0.26</td>\n",
       "      <td>0.2576</td>\n",
       "      <td>0.600</td>\n",
       "      <td>0.1642</td>\n",
       "      <td>8</td>\n",
       "      <td>81</td>\n",
       "      <td>89</td>\n",
       "    </tr>\n",
       "    <tr>\n",
       "      <th>17376</th>\n",
       "      <td>2012-12-31</td>\n",
       "      <td>1</td>\n",
       "      <td>2012</td>\n",
       "      <td>12</td>\n",
       "      <td>21</td>\n",
       "      <td>0</td>\n",
       "      <td>1</td>\n",
       "      <td>1</td>\n",
       "      <td>0</td>\n",
       "      <td>0.26</td>\n",
       "      <td>0.2576</td>\n",
       "      <td>0.600</td>\n",
       "      <td>0.1642</td>\n",
       "      <td>7</td>\n",
       "      <td>83</td>\n",
       "      <td>90</td>\n",
       "    </tr>\n",
       "    <tr>\n",
       "      <th>17377</th>\n",
       "      <td>2012-12-31</td>\n",
       "      <td>1</td>\n",
       "      <td>2012</td>\n",
       "      <td>12</td>\n",
       "      <td>22</td>\n",
       "      <td>0</td>\n",
       "      <td>1</td>\n",
       "      <td>1</td>\n",
       "      <td>0</td>\n",
       "      <td>0.26</td>\n",
       "      <td>0.2727</td>\n",
       "      <td>0.560</td>\n",
       "      <td>0.1343</td>\n",
       "      <td>13</td>\n",
       "      <td>48</td>\n",
       "      <td>61</td>\n",
       "    </tr>\n",
       "    <tr>\n",
       "      <th>17378</th>\n",
       "      <td>2012-12-31</td>\n",
       "      <td>1</td>\n",
       "      <td>2012</td>\n",
       "      <td>12</td>\n",
       "      <td>23</td>\n",
       "      <td>0</td>\n",
       "      <td>1</td>\n",
       "      <td>1</td>\n",
       "      <td>0</td>\n",
       "      <td>0.26</td>\n",
       "      <td>0.2727</td>\n",
       "      <td>0.650</td>\n",
       "      <td>0.1343</td>\n",
       "      <td>12</td>\n",
       "      <td>37</td>\n",
       "      <td>49</td>\n",
       "    </tr>\n",
       "  </tbody>\n",
       "</table>\n",
       "<p>17379 rows × 16 columns</p>\n",
       "</div>"
      ],
      "text/plain": [
       "            date  season  year  month  hour  holiday  weekday  workingday  \\\n",
       "0     2011-01-01       1  2011      1     0        0        6           0   \n",
       "1     2011-01-01       1  2011      1     1        0        6           0   \n",
       "2     2011-01-01       1  2011      1     2        0        6           0   \n",
       "3     2011-01-01       1  2011      1     3        0        6           0   \n",
       "4     2011-01-01       1  2011      1     4        0        6           0   \n",
       "...          ...     ...   ...    ...   ...      ...      ...         ...   \n",
       "17374 2012-12-31       1  2012     12    19        0        1           1   \n",
       "17375 2012-12-31       1  2012     12    20        0        1           1   \n",
       "17376 2012-12-31       1  2012     12    21        0        1           1   \n",
       "17377 2012-12-31       1  2012     12    22        0        1           1   \n",
       "17378 2012-12-31       1  2012     12    23        0        1           1   \n",
       "\n",
       "       weather  temp  temp_feel  humidity  windspeed  casual  registered  \\\n",
       "0            0  0.24     0.2879     0.810     0.0000       3          13   \n",
       "1            0  0.22     0.2727     0.800     0.0000       8          32   \n",
       "2            0  0.22     0.2727     0.775     0.0000       5          27   \n",
       "3            0  0.24     0.2879     0.750     0.0000       3          10   \n",
       "4            0  0.24     0.2879     0.750     0.0000       0           1   \n",
       "...        ...   ...        ...       ...        ...     ...         ...   \n",
       "17374        3  0.26     0.2576     0.600     0.1642      11         108   \n",
       "17375        3  0.26     0.2576     0.600     0.1642       8          81   \n",
       "17376        0  0.26     0.2576     0.600     0.1642       7          83   \n",
       "17377        0  0.26     0.2727     0.560     0.1343      13          48   \n",
       "17378        0  0.26     0.2727     0.650     0.1343      12          37   \n",
       "\n",
       "       count  \n",
       "0         16  \n",
       "1         40  \n",
       "2         32  \n",
       "3         13  \n",
       "4          1  \n",
       "...      ...  \n",
       "17374    119  \n",
       "17375     89  \n",
       "17376     90  \n",
       "17377     61  \n",
       "17378     49  \n",
       "\n",
       "[17379 rows x 16 columns]"
      ]
     },
     "execution_count": 64,
     "metadata": {},
     "output_type": "execute_result"
    }
   ],
   "source": [
    "data"
   ]
  },
  {
   "cell_type": "code",
   "execution_count": 65,
   "id": "aedab837",
   "metadata": {
    "id": "e8df76a7"
   },
   "outputs": [],
   "source": [
    "data['year'] = data['year'].astype(int)"
   ]
  },
  {
   "cell_type": "code",
   "execution_count": 66,
   "id": "be6b666b",
   "metadata": {
    "colab": {
     "base_uri": "https://localhost:8080/"
    },
    "id": "b7af75bb",
    "outputId": "7449e0fb-d6f6-42e7-aada-5f1a8f8bc64e"
   },
   "outputs": [
    {
     "name": "stdout",
     "output_type": "stream",
     "text": [
      "<class 'pandas.core.frame.DataFrame'>\n",
      "RangeIndex: 17379 entries, 0 to 17378\n",
      "Data columns (total 16 columns):\n",
      " #   Column      Non-Null Count  Dtype         \n",
      "---  ------      --------------  -----         \n",
      " 0   date        17379 non-null  datetime64[ns]\n",
      " 1   season      17379 non-null  int32         \n",
      " 2   year        17379 non-null  int32         \n",
      " 3   month       17379 non-null  int32         \n",
      " 4   hour        17379 non-null  int64         \n",
      " 5   holiday     17379 non-null  int32         \n",
      " 6   weekday     17379 non-null  int64         \n",
      " 7   workingday  17379 non-null  int32         \n",
      " 8   weather     17379 non-null  int32         \n",
      " 9   temp        17379 non-null  float64       \n",
      " 10  temp_feel   17379 non-null  float64       \n",
      " 11  humidity    17379 non-null  float64       \n",
      " 12  windspeed   17379 non-null  float64       \n",
      " 13  casual      17379 non-null  int32         \n",
      " 14  registered  17379 non-null  int32         \n",
      " 15  count       17379 non-null  int32         \n",
      "dtypes: datetime64[ns](1), float64(4), int32(9), int64(2)\n",
      "memory usage: 1.5 MB\n"
     ]
    }
   ],
   "source": [
    "data.info()"
   ]
  },
  {
   "cell_type": "markdown",
   "id": "471f9034",
   "metadata": {
    "id": "0b04ea84"
   },
   "source": [
    "# Model Building"
   ]
  },
  {
   "cell_type": "code",
   "execution_count": 67,
   "id": "8dd10447-a137-4b86-8ad9-5d0914661291",
   "metadata": {},
   "outputs": [
    {
     "name": "stdout",
     "output_type": "stream",
     "text": [
      "Defaulting to user installation because normal site-packages is not writeable\n",
      "Requirement already satisfied: xgboost in c:\\users\\sange\\appdata\\roaming\\python\\python312\\site-packages (2.1.1)\n",
      "Requirement already satisfied: numpy in c:\\programdata\\anaconda3\\lib\\site-packages (from xgboost) (1.26.4)\n",
      "Requirement already satisfied: scipy in c:\\programdata\\anaconda3\\lib\\site-packages (from xgboost) (1.13.1)\n",
      "Note: you may need to restart the kernel to use updated packages.\n"
     ]
    }
   ],
   "source": [
    "pip  install xgboost"
   ]
  },
  {
   "cell_type": "code",
   "execution_count": 68,
   "id": "ef6d640b",
   "metadata": {
    "id": "a12953c9"
   },
   "outputs": [],
   "source": [
    "from sklearn.tree import DecisionTreeRegressor\n",
    "from sklearn.ensemble import RandomForestRegressor\n",
    "from sklearn.ensemble import GradientBoostingRegressor\n",
    "from sklearn.ensemble import AdaBoostRegressor\n",
    "#from xgboost import XGBRegressor\n",
    "from sklearn.svm import SVR\n",
    "from sklearn.metrics import mean_absolute_error, mean_squared_error, r2_score\n",
    "import numpy as np"
   ]
  },
  {
   "cell_type": "code",
   "execution_count": 69,
   "id": "c50b0015-3e29-4d0e-9be1-d5e1a31b90d7",
   "metadata": {},
   "outputs": [
    {
     "data": {
      "text/html": [
       "<div>\n",
       "<style scoped>\n",
       "    .dataframe tbody tr th:only-of-type {\n",
       "        vertical-align: middle;\n",
       "    }\n",
       "\n",
       "    .dataframe tbody tr th {\n",
       "        vertical-align: top;\n",
       "    }\n",
       "\n",
       "    .dataframe thead th {\n",
       "        text-align: right;\n",
       "    }\n",
       "</style>\n",
       "<table border=\"1\" class=\"dataframe\">\n",
       "  <thead>\n",
       "    <tr style=\"text-align: right;\">\n",
       "      <th></th>\n",
       "      <th>date</th>\n",
       "      <th>season</th>\n",
       "      <th>year</th>\n",
       "      <th>month</th>\n",
       "      <th>hour</th>\n",
       "      <th>holiday</th>\n",
       "      <th>weekday</th>\n",
       "      <th>workingday</th>\n",
       "      <th>weather</th>\n",
       "      <th>temp</th>\n",
       "      <th>temp_feel</th>\n",
       "      <th>humidity</th>\n",
       "      <th>windspeed</th>\n",
       "      <th>casual</th>\n",
       "      <th>registered</th>\n",
       "      <th>count</th>\n",
       "    </tr>\n",
       "  </thead>\n",
       "  <tbody>\n",
       "    <tr>\n",
       "      <th>0</th>\n",
       "      <td>2011-01-01</td>\n",
       "      <td>1</td>\n",
       "      <td>2011</td>\n",
       "      <td>1</td>\n",
       "      <td>0</td>\n",
       "      <td>0</td>\n",
       "      <td>6</td>\n",
       "      <td>0</td>\n",
       "      <td>0</td>\n",
       "      <td>0.24</td>\n",
       "      <td>0.2879</td>\n",
       "      <td>0.810</td>\n",
       "      <td>0.0000</td>\n",
       "      <td>3</td>\n",
       "      <td>13</td>\n",
       "      <td>16</td>\n",
       "    </tr>\n",
       "    <tr>\n",
       "      <th>1</th>\n",
       "      <td>2011-01-01</td>\n",
       "      <td>1</td>\n",
       "      <td>2011</td>\n",
       "      <td>1</td>\n",
       "      <td>1</td>\n",
       "      <td>0</td>\n",
       "      <td>6</td>\n",
       "      <td>0</td>\n",
       "      <td>0</td>\n",
       "      <td>0.22</td>\n",
       "      <td>0.2727</td>\n",
       "      <td>0.800</td>\n",
       "      <td>0.0000</td>\n",
       "      <td>8</td>\n",
       "      <td>32</td>\n",
       "      <td>40</td>\n",
       "    </tr>\n",
       "    <tr>\n",
       "      <th>2</th>\n",
       "      <td>2011-01-01</td>\n",
       "      <td>1</td>\n",
       "      <td>2011</td>\n",
       "      <td>1</td>\n",
       "      <td>2</td>\n",
       "      <td>0</td>\n",
       "      <td>6</td>\n",
       "      <td>0</td>\n",
       "      <td>0</td>\n",
       "      <td>0.22</td>\n",
       "      <td>0.2727</td>\n",
       "      <td>0.775</td>\n",
       "      <td>0.0000</td>\n",
       "      <td>5</td>\n",
       "      <td>27</td>\n",
       "      <td>32</td>\n",
       "    </tr>\n",
       "    <tr>\n",
       "      <th>3</th>\n",
       "      <td>2011-01-01</td>\n",
       "      <td>1</td>\n",
       "      <td>2011</td>\n",
       "      <td>1</td>\n",
       "      <td>3</td>\n",
       "      <td>0</td>\n",
       "      <td>6</td>\n",
       "      <td>0</td>\n",
       "      <td>0</td>\n",
       "      <td>0.24</td>\n",
       "      <td>0.2879</td>\n",
       "      <td>0.750</td>\n",
       "      <td>0.0000</td>\n",
       "      <td>3</td>\n",
       "      <td>10</td>\n",
       "      <td>13</td>\n",
       "    </tr>\n",
       "    <tr>\n",
       "      <th>4</th>\n",
       "      <td>2011-01-01</td>\n",
       "      <td>1</td>\n",
       "      <td>2011</td>\n",
       "      <td>1</td>\n",
       "      <td>4</td>\n",
       "      <td>0</td>\n",
       "      <td>6</td>\n",
       "      <td>0</td>\n",
       "      <td>0</td>\n",
       "      <td>0.24</td>\n",
       "      <td>0.2879</td>\n",
       "      <td>0.750</td>\n",
       "      <td>0.0000</td>\n",
       "      <td>0</td>\n",
       "      <td>1</td>\n",
       "      <td>1</td>\n",
       "    </tr>\n",
       "    <tr>\n",
       "      <th>...</th>\n",
       "      <td>...</td>\n",
       "      <td>...</td>\n",
       "      <td>...</td>\n",
       "      <td>...</td>\n",
       "      <td>...</td>\n",
       "      <td>...</td>\n",
       "      <td>...</td>\n",
       "      <td>...</td>\n",
       "      <td>...</td>\n",
       "      <td>...</td>\n",
       "      <td>...</td>\n",
       "      <td>...</td>\n",
       "      <td>...</td>\n",
       "      <td>...</td>\n",
       "      <td>...</td>\n",
       "      <td>...</td>\n",
       "    </tr>\n",
       "    <tr>\n",
       "      <th>17374</th>\n",
       "      <td>2012-12-31</td>\n",
       "      <td>1</td>\n",
       "      <td>2012</td>\n",
       "      <td>12</td>\n",
       "      <td>19</td>\n",
       "      <td>0</td>\n",
       "      <td>1</td>\n",
       "      <td>1</td>\n",
       "      <td>3</td>\n",
       "      <td>0.26</td>\n",
       "      <td>0.2576</td>\n",
       "      <td>0.600</td>\n",
       "      <td>0.1642</td>\n",
       "      <td>11</td>\n",
       "      <td>108</td>\n",
       "      <td>119</td>\n",
       "    </tr>\n",
       "    <tr>\n",
       "      <th>17375</th>\n",
       "      <td>2012-12-31</td>\n",
       "      <td>1</td>\n",
       "      <td>2012</td>\n",
       "      <td>12</td>\n",
       "      <td>20</td>\n",
       "      <td>0</td>\n",
       "      <td>1</td>\n",
       "      <td>1</td>\n",
       "      <td>3</td>\n",
       "      <td>0.26</td>\n",
       "      <td>0.2576</td>\n",
       "      <td>0.600</td>\n",
       "      <td>0.1642</td>\n",
       "      <td>8</td>\n",
       "      <td>81</td>\n",
       "      <td>89</td>\n",
       "    </tr>\n",
       "    <tr>\n",
       "      <th>17376</th>\n",
       "      <td>2012-12-31</td>\n",
       "      <td>1</td>\n",
       "      <td>2012</td>\n",
       "      <td>12</td>\n",
       "      <td>21</td>\n",
       "      <td>0</td>\n",
       "      <td>1</td>\n",
       "      <td>1</td>\n",
       "      <td>0</td>\n",
       "      <td>0.26</td>\n",
       "      <td>0.2576</td>\n",
       "      <td>0.600</td>\n",
       "      <td>0.1642</td>\n",
       "      <td>7</td>\n",
       "      <td>83</td>\n",
       "      <td>90</td>\n",
       "    </tr>\n",
       "    <tr>\n",
       "      <th>17377</th>\n",
       "      <td>2012-12-31</td>\n",
       "      <td>1</td>\n",
       "      <td>2012</td>\n",
       "      <td>12</td>\n",
       "      <td>22</td>\n",
       "      <td>0</td>\n",
       "      <td>1</td>\n",
       "      <td>1</td>\n",
       "      <td>0</td>\n",
       "      <td>0.26</td>\n",
       "      <td>0.2727</td>\n",
       "      <td>0.560</td>\n",
       "      <td>0.1343</td>\n",
       "      <td>13</td>\n",
       "      <td>48</td>\n",
       "      <td>61</td>\n",
       "    </tr>\n",
       "    <tr>\n",
       "      <th>17378</th>\n",
       "      <td>2012-12-31</td>\n",
       "      <td>1</td>\n",
       "      <td>2012</td>\n",
       "      <td>12</td>\n",
       "      <td>23</td>\n",
       "      <td>0</td>\n",
       "      <td>1</td>\n",
       "      <td>1</td>\n",
       "      <td>0</td>\n",
       "      <td>0.26</td>\n",
       "      <td>0.2727</td>\n",
       "      <td>0.650</td>\n",
       "      <td>0.1343</td>\n",
       "      <td>12</td>\n",
       "      <td>37</td>\n",
       "      <td>49</td>\n",
       "    </tr>\n",
       "  </tbody>\n",
       "</table>\n",
       "<p>17379 rows × 16 columns</p>\n",
       "</div>"
      ],
      "text/plain": [
       "            date  season  year  month  hour  holiday  weekday  workingday  \\\n",
       "0     2011-01-01       1  2011      1     0        0        6           0   \n",
       "1     2011-01-01       1  2011      1     1        0        6           0   \n",
       "2     2011-01-01       1  2011      1     2        0        6           0   \n",
       "3     2011-01-01       1  2011      1     3        0        6           0   \n",
       "4     2011-01-01       1  2011      1     4        0        6           0   \n",
       "...          ...     ...   ...    ...   ...      ...      ...         ...   \n",
       "17374 2012-12-31       1  2012     12    19        0        1           1   \n",
       "17375 2012-12-31       1  2012     12    20        0        1           1   \n",
       "17376 2012-12-31       1  2012     12    21        0        1           1   \n",
       "17377 2012-12-31       1  2012     12    22        0        1           1   \n",
       "17378 2012-12-31       1  2012     12    23        0        1           1   \n",
       "\n",
       "       weather  temp  temp_feel  humidity  windspeed  casual  registered  \\\n",
       "0            0  0.24     0.2879     0.810     0.0000       3          13   \n",
       "1            0  0.22     0.2727     0.800     0.0000       8          32   \n",
       "2            0  0.22     0.2727     0.775     0.0000       5          27   \n",
       "3            0  0.24     0.2879     0.750     0.0000       3          10   \n",
       "4            0  0.24     0.2879     0.750     0.0000       0           1   \n",
       "...        ...   ...        ...       ...        ...     ...         ...   \n",
       "17374        3  0.26     0.2576     0.600     0.1642      11         108   \n",
       "17375        3  0.26     0.2576     0.600     0.1642       8          81   \n",
       "17376        0  0.26     0.2576     0.600     0.1642       7          83   \n",
       "17377        0  0.26     0.2727     0.560     0.1343      13          48   \n",
       "17378        0  0.26     0.2727     0.650     0.1343      12          37   \n",
       "\n",
       "       count  \n",
       "0         16  \n",
       "1         40  \n",
       "2         32  \n",
       "3         13  \n",
       "4          1  \n",
       "...      ...  \n",
       "17374    119  \n",
       "17375     89  \n",
       "17376     90  \n",
       "17377     61  \n",
       "17378     49  \n",
       "\n",
       "[17379 rows x 16 columns]"
      ]
     },
     "execution_count": 69,
     "metadata": {},
     "output_type": "execute_result"
    }
   ],
   "source": [
    "data"
   ]
  },
  {
   "cell_type": "code",
   "execution_count": 70,
   "id": "507545e1",
   "metadata": {
    "id": "92b2339c"
   },
   "outputs": [],
   "source": [
    "from sklearn.model_selection import train_test_split\n",
    "\n",
    "X = data.drop(['date', 'count'], axis=1)\n",
    "y = data['count']\n",
    "\n",
    "X_train, X_test, y_train, y_test = train_test_split(X, y, test_size=0.2, random_state=42)"
   ]
  },
  {
   "cell_type": "code",
   "execution_count": 71,
   "id": "95db7d93",
   "metadata": {
    "colab": {
     "base_uri": "https://localhost:8080/"
    },
    "id": "8bb12aab",
    "outputId": "06a179f6-d008-42d2-8dc4-6d7670dfa213"
   },
   "outputs": [
    {
     "name": "stdout",
     "output_type": "stream",
     "text": [
      "MAE :  2.2669735327963174\n",
      "MSE :  32.80149597238205\n",
      "RMSE :  5.727259027875555\n",
      "R^2 :  0.9989641222208089\n"
     ]
    }
   ],
   "source": [
    "# Decision Trees\n",
    "dt_reg = DecisionTreeRegressor()\n",
    "dt_reg.fit(X_train, y_train)\n",
    "y_pred_dt = dt_reg.predict(X_test)\n",
    "\n",
    "print(\"MAE : \",mean_absolute_error(y_test,y_pred_dt))\n",
    "print(\"MSE : \",mean_squared_error(y_test, y_pred_dt))\n",
    "print(\"RMSE : \",np.sqrt(mean_squared_error(y_test,y_pred_dt)))\n",
    "print(\"R^2 : \",r2_score(y_test, y_pred_dt))"
   ]
  },
  {
   "cell_type": "code",
   "execution_count": 72,
   "id": "5746f973",
   "metadata": {
    "colab": {
     "base_uri": "https://localhost:8080/"
    },
    "id": "3ec42dee",
    "outputId": "243b4535-682d-406b-ec5e-ae0dc9fae872"
   },
   "outputs": [
    {
     "name": "stdout",
     "output_type": "stream",
     "text": [
      "MAE :  0.9538262370540853\n",
      "MSE :  7.396582048331416\n",
      "RMSE :  2.71966579717645\n",
      "R^2 :  0.9997664144649903\n"
     ]
    }
   ],
   "source": [
    "# Random Forest\n",
    "rf_reg = RandomForestRegressor()\n",
    "rf_reg.fit(X_train, y_train)\n",
    "y_pred_rf = rf_reg.predict(X_test)\n",
    "\n",
    "print(\"MAE : \",mean_absolute_error(y_test,y_pred_rf))\n",
    "print(\"MSE : \",mean_squared_error(y_test, y_pred_rf))\n",
    "print(\"RMSE : \",np.sqrt(mean_squared_error(y_test,y_pred_rf)))\n",
    "print(\"R^2 : \",r2_score(y_test, y_pred_rf))"
   ]
  },
  {
   "cell_type": "raw",
   "id": "84a55684-81ca-4e66-852b-59f48536f1b8",
   "metadata": {},
   "source": []
  },
  {
   "cell_type": "code",
   "execution_count": 73,
   "id": "4d102d5d-3787-4392-9099-d2bb09382977",
   "metadata": {
    "colab": {
     "base_uri": "https://localhost:8080/"
    },
    "id": "c4d44503",
    "outputId": "14872142-5d6e-40a8-fd33-e8982e595414"
   },
   "outputs": [
    {
     "name": "stdout",
     "output_type": "stream",
     "text": [
      "MAE :  3.2609926996870096\n",
      "MSE :  28.47900948257467\n",
      "RMSE :  5.336572821818763\n",
      "R^2 :  0.9991006272055027\n"
     ]
    }
   ],
   "source": [
    "# Gradient Boosting\n",
    "gb_reg = GradientBoostingRegressor()\n",
    "gb_reg.fit(X_train, y_train)\n",
    "y_pred_gb = gb_reg.predict(X_test)\n",
    "\n",
    "print(\"MAE : \",mean_absolute_error(y_test,y_pred_gb))\n",
    "print(\"MSE : \",mean_squared_error(y_test, y_pred_gb))\n",
    "print(\"RMSE : \",np.sqrt(mean_squared_error(y_test,y_pred_gb)))\n",
    "print(\"R^2 : \",r2_score(y_test, y_pred_gb))"
   ]
  },
  {
   "cell_type": "code",
   "execution_count": 74,
   "id": "bbc1ff0c",
   "metadata": {
    "colab": {
     "base_uri": "https://localhost:8080/"
    },
    "id": "c7845587",
    "outputId": "e29c0661-c281-4d62-9429-05821efbd42e"
   },
   "outputs": [
    {
     "name": "stdout",
     "output_type": "stream",
     "text": [
      "MAE :  21.173001026716747\n",
      "MSE :  676.0918872373421\n",
      "RMSE :  26.00176700221241\n",
      "R^2 :  0.9786488834756127\n"
     ]
    }
   ],
   "source": [
    "# Ada Boost\n",
    "ab_reg = AdaBoostRegressor()\n",
    "ab_reg.fit(X_train, y_train)\n",
    "y_pred_ab = ab_reg.predict(X_test)\n",
    "\n",
    "print(\"MAE : \",mean_absolute_error(y_test,y_pred_ab))\n",
    "print(\"MSE : \",mean_squared_error(y_test, y_pred_ab))\n",
    "print(\"RMSE : \",np.sqrt(mean_squared_error(y_test,y_pred_ab)))\n",
    "print(\"R^2 : \",r2_score(y_test, y_pred_ab))"
   ]
  },
  {
   "cell_type": "markdown",
   "id": "068dd79b-fee6-4d3b-9641-4fadcdb317e7",
   "metadata": {
    "colab": {
     "base_uri": "https://localhost:8080/"
    },
    "id": "d7c99a87",
    "outputId": "ee05158d-d68b-4f70-dc84-c6c28b956ec9"
   },
   "source": [
    "# XGBoost\n",
    "xgb_reg = XGBRegressor()\n",
    "xgb_reg.fit(X_train, y_train)\n",
    "y_pred_xgb = xgb_reg.predict(X_test)\n",
    "\n",
    "print(\"MAE : \",mean_absolute_error(y_test,y_pred_xgb))\n",
    "print(\"MSE : \",mean_squared_error(y_test, y_pred_xgb))\n",
    "print(\"RMSE : \",np.sqrt(mean_squared_error(y_test,y_pred_xgb)))\n",
    "print(\"R^2 : \",r2_score(y_test, y_pred_xgb))"
   ]
  },
  {
   "cell_type": "markdown",
   "id": "81f7f9b7",
   "metadata": {
    "id": "84c4eb48"
   },
   "source": [
    "# Feature Importance"
   ]
  },
  {
   "cell_type": "code",
   "execution_count": 75,
   "id": "f45dc507",
   "metadata": {
    "colab": {
     "base_uri": "https://localhost:8080/",
     "height": 488
    },
    "id": "5ed0373e",
    "outputId": "13fbb222-0cd9-4193-9026-4056988c8289"
   },
   "outputs": [
    {
     "data": {
      "text/html": [
       "<div>\n",
       "<style scoped>\n",
       "    .dataframe tbody tr th:only-of-type {\n",
       "        vertical-align: middle;\n",
       "    }\n",
       "\n",
       "    .dataframe tbody tr th {\n",
       "        vertical-align: top;\n",
       "    }\n",
       "\n",
       "    .dataframe thead th {\n",
       "        text-align: right;\n",
       "    }\n",
       "</style>\n",
       "<table border=\"1\" class=\"dataframe\">\n",
       "  <thead>\n",
       "    <tr style=\"text-align: right;\">\n",
       "      <th></th>\n",
       "      <th>Feature</th>\n",
       "      <th>Importance</th>\n",
       "    </tr>\n",
       "  </thead>\n",
       "  <tbody>\n",
       "    <tr>\n",
       "      <th>13</th>\n",
       "      <td>registered</td>\n",
       "      <td>0.9456657546</td>\n",
       "    </tr>\n",
       "    <tr>\n",
       "      <th>12</th>\n",
       "      <td>casual</td>\n",
       "      <td>0.0541676676</td>\n",
       "    </tr>\n",
       "    <tr>\n",
       "      <th>11</th>\n",
       "      <td>windspeed</td>\n",
       "      <td>0.0000402492</td>\n",
       "    </tr>\n",
       "    <tr>\n",
       "      <th>2</th>\n",
       "      <td>month</td>\n",
       "      <td>0.0000272016</td>\n",
       "    </tr>\n",
       "    <tr>\n",
       "      <th>8</th>\n",
       "      <td>temp</td>\n",
       "      <td>0.0000193974</td>\n",
       "    </tr>\n",
       "    <tr>\n",
       "      <th>10</th>\n",
       "      <td>humidity</td>\n",
       "      <td>0.0000183122</td>\n",
       "    </tr>\n",
       "    <tr>\n",
       "      <th>9</th>\n",
       "      <td>temp_feel</td>\n",
       "      <td>0.0000144258</td>\n",
       "    </tr>\n",
       "    <tr>\n",
       "      <th>5</th>\n",
       "      <td>weekday</td>\n",
       "      <td>0.0000137140</td>\n",
       "    </tr>\n",
       "    <tr>\n",
       "      <th>3</th>\n",
       "      <td>hour</td>\n",
       "      <td>0.0000136381</td>\n",
       "    </tr>\n",
       "    <tr>\n",
       "      <th>1</th>\n",
       "      <td>year</td>\n",
       "      <td>0.0000093284</td>\n",
       "    </tr>\n",
       "    <tr>\n",
       "      <th>7</th>\n",
       "      <td>weather</td>\n",
       "      <td>0.0000054679</td>\n",
       "    </tr>\n",
       "    <tr>\n",
       "      <th>0</th>\n",
       "      <td>season</td>\n",
       "      <td>0.0000032304</td>\n",
       "    </tr>\n",
       "    <tr>\n",
       "      <th>6</th>\n",
       "      <td>workingday</td>\n",
       "      <td>0.0000011476</td>\n",
       "    </tr>\n",
       "    <tr>\n",
       "      <th>4</th>\n",
       "      <td>holiday</td>\n",
       "      <td>0.0000004652</td>\n",
       "    </tr>\n",
       "  </tbody>\n",
       "</table>\n",
       "</div>"
      ],
      "text/plain": [
       "       Feature   Importance\n",
       "13  registered 0.9456657546\n",
       "12      casual 0.0541676676\n",
       "11   windspeed 0.0000402492\n",
       "2        month 0.0000272016\n",
       "8         temp 0.0000193974\n",
       "10    humidity 0.0000183122\n",
       "9    temp_feel 0.0000144258\n",
       "5      weekday 0.0000137140\n",
       "3         hour 0.0000136381\n",
       "1         year 0.0000093284\n",
       "7      weather 0.0000054679\n",
       "0       season 0.0000032304\n",
       "6   workingday 0.0000011476\n",
       "4      holiday 0.0000004652"
      ]
     },
     "execution_count": 75,
     "metadata": {},
     "output_type": "execute_result"
    }
   ],
   "source": [
    "# Decision Trees\n",
    "dt_feature_importance = dt_reg.feature_importances_\n",
    "\n",
    "# Creating a DataFrame to display feature importance\n",
    "dt_importance_df = pd.DataFrame({'Feature': X_train.columns, 'Importance': dt_feature_importance})\n",
    "dt_importance_df = dt_importance_df.sort_values(by='Importance', ascending=False)\n",
    "pd.options.display.float_format = '{:.10f}'.format\n",
    "dt_importance_df"
   ]
  },
  {
   "cell_type": "code",
   "execution_count": 76,
   "id": "d0e9bd13",
   "metadata": {
    "colab": {
     "base_uri": "https://localhost:8080/",
     "height": 488
    },
    "id": "64989f3f",
    "outputId": "6a0a1005-96ef-42d0-b646-e45b0fd1f8ae"
   },
   "outputs": [
    {
     "data": {
      "text/html": [
       "<div>\n",
       "<style scoped>\n",
       "    .dataframe tbody tr th:only-of-type {\n",
       "        vertical-align: middle;\n",
       "    }\n",
       "\n",
       "    .dataframe tbody tr th {\n",
       "        vertical-align: top;\n",
       "    }\n",
       "\n",
       "    .dataframe thead th {\n",
       "        text-align: right;\n",
       "    }\n",
       "</style>\n",
       "<table border=\"1\" class=\"dataframe\">\n",
       "  <thead>\n",
       "    <tr style=\"text-align: right;\">\n",
       "      <th></th>\n",
       "      <th>Feature</th>\n",
       "      <th>Importance</th>\n",
       "    </tr>\n",
       "  </thead>\n",
       "  <tbody>\n",
       "    <tr>\n",
       "      <th>13</th>\n",
       "      <td>registered</td>\n",
       "      <td>0.9475058620</td>\n",
       "    </tr>\n",
       "    <tr>\n",
       "      <th>12</th>\n",
       "      <td>casual</td>\n",
       "      <td>0.0522322688</td>\n",
       "    </tr>\n",
       "    <tr>\n",
       "      <th>10</th>\n",
       "      <td>humidity</td>\n",
       "      <td>0.0000465132</td>\n",
       "    </tr>\n",
       "    <tr>\n",
       "      <th>11</th>\n",
       "      <td>windspeed</td>\n",
       "      <td>0.0000374749</td>\n",
       "    </tr>\n",
       "    <tr>\n",
       "      <th>3</th>\n",
       "      <td>hour</td>\n",
       "      <td>0.0000357497</td>\n",
       "    </tr>\n",
       "    <tr>\n",
       "      <th>2</th>\n",
       "      <td>month</td>\n",
       "      <td>0.0000296053</td>\n",
       "    </tr>\n",
       "    <tr>\n",
       "      <th>8</th>\n",
       "      <td>temp</td>\n",
       "      <td>0.0000289822</td>\n",
       "    </tr>\n",
       "    <tr>\n",
       "      <th>9</th>\n",
       "      <td>temp_feel</td>\n",
       "      <td>0.0000258137</td>\n",
       "    </tr>\n",
       "    <tr>\n",
       "      <th>6</th>\n",
       "      <td>workingday</td>\n",
       "      <td>0.0000178528</td>\n",
       "    </tr>\n",
       "    <tr>\n",
       "      <th>5</th>\n",
       "      <td>weekday</td>\n",
       "      <td>0.0000172432</td>\n",
       "    </tr>\n",
       "    <tr>\n",
       "      <th>0</th>\n",
       "      <td>season</td>\n",
       "      <td>0.0000110064</td>\n",
       "    </tr>\n",
       "    <tr>\n",
       "      <th>7</th>\n",
       "      <td>weather</td>\n",
       "      <td>0.0000070253</td>\n",
       "    </tr>\n",
       "    <tr>\n",
       "      <th>1</th>\n",
       "      <td>year</td>\n",
       "      <td>0.0000032522</td>\n",
       "    </tr>\n",
       "    <tr>\n",
       "      <th>4</th>\n",
       "      <td>holiday</td>\n",
       "      <td>0.0000013503</td>\n",
       "    </tr>\n",
       "  </tbody>\n",
       "</table>\n",
       "</div>"
      ],
      "text/plain": [
       "       Feature   Importance\n",
       "13  registered 0.9475058620\n",
       "12      casual 0.0522322688\n",
       "10    humidity 0.0000465132\n",
       "11   windspeed 0.0000374749\n",
       "3         hour 0.0000357497\n",
       "2        month 0.0000296053\n",
       "8         temp 0.0000289822\n",
       "9    temp_feel 0.0000258137\n",
       "6   workingday 0.0000178528\n",
       "5      weekday 0.0000172432\n",
       "0       season 0.0000110064\n",
       "7      weather 0.0000070253\n",
       "1         year 0.0000032522\n",
       "4      holiday 0.0000013503"
      ]
     },
     "execution_count": 76,
     "metadata": {},
     "output_type": "execute_result"
    }
   ],
   "source": [
    "# Random Forest\n",
    "rf_feature_importance = rf_reg.feature_importances_\n",
    "\n",
    "rf_importance_df = pd.DataFrame({'Feature': X_train.columns, 'Importance': rf_feature_importance})\n",
    "rf_importance_df = rf_importance_df.sort_values(by='Importance', ascending=False)\n",
    "pd.options.display.float_format = '{:.10f}'.format\n",
    "rf_importance_df"
   ]
  },
  {
   "cell_type": "code",
   "execution_count": 77,
   "id": "27ca8a24",
   "metadata": {
    "colab": {
     "base_uri": "https://localhost:8080/",
     "height": 488
    },
    "id": "03afcac5",
    "outputId": "c32f3051-c7f3-4ef1-b94e-b54feedd5f05"
   },
   "outputs": [
    {
     "data": {
      "text/html": [
       "<div>\n",
       "<style scoped>\n",
       "    .dataframe tbody tr th:only-of-type {\n",
       "        vertical-align: middle;\n",
       "    }\n",
       "\n",
       "    .dataframe tbody tr th {\n",
       "        vertical-align: top;\n",
       "    }\n",
       "\n",
       "    .dataframe thead th {\n",
       "        text-align: right;\n",
       "    }\n",
       "</style>\n",
       "<table border=\"1\" class=\"dataframe\">\n",
       "  <thead>\n",
       "    <tr style=\"text-align: right;\">\n",
       "      <th></th>\n",
       "      <th>Feature</th>\n",
       "      <th>Importance</th>\n",
       "    </tr>\n",
       "  </thead>\n",
       "  <tbody>\n",
       "    <tr>\n",
       "      <th>13</th>\n",
       "      <td>registered</td>\n",
       "      <td>0.9359149608</td>\n",
       "    </tr>\n",
       "    <tr>\n",
       "      <th>12</th>\n",
       "      <td>casual</td>\n",
       "      <td>0.0640677997</td>\n",
       "    </tr>\n",
       "    <tr>\n",
       "      <th>3</th>\n",
       "      <td>hour</td>\n",
       "      <td>0.0000063114</td>\n",
       "    </tr>\n",
       "    <tr>\n",
       "      <th>1</th>\n",
       "      <td>year</td>\n",
       "      <td>0.0000039304</td>\n",
       "    </tr>\n",
       "    <tr>\n",
       "      <th>6</th>\n",
       "      <td>workingday</td>\n",
       "      <td>0.0000018013</td>\n",
       "    </tr>\n",
       "    <tr>\n",
       "      <th>5</th>\n",
       "      <td>weekday</td>\n",
       "      <td>0.0000013799</td>\n",
       "    </tr>\n",
       "    <tr>\n",
       "      <th>2</th>\n",
       "      <td>month</td>\n",
       "      <td>0.0000013443</td>\n",
       "    </tr>\n",
       "    <tr>\n",
       "      <th>0</th>\n",
       "      <td>season</td>\n",
       "      <td>0.0000009174</td>\n",
       "    </tr>\n",
       "    <tr>\n",
       "      <th>10</th>\n",
       "      <td>humidity</td>\n",
       "      <td>0.0000006090</td>\n",
       "    </tr>\n",
       "    <tr>\n",
       "      <th>8</th>\n",
       "      <td>temp</td>\n",
       "      <td>0.0000004991</td>\n",
       "    </tr>\n",
       "    <tr>\n",
       "      <th>9</th>\n",
       "      <td>temp_feel</td>\n",
       "      <td>0.0000004145</td>\n",
       "    </tr>\n",
       "    <tr>\n",
       "      <th>11</th>\n",
       "      <td>windspeed</td>\n",
       "      <td>0.0000000321</td>\n",
       "    </tr>\n",
       "    <tr>\n",
       "      <th>4</th>\n",
       "      <td>holiday</td>\n",
       "      <td>0.0000000000</td>\n",
       "    </tr>\n",
       "    <tr>\n",
       "      <th>7</th>\n",
       "      <td>weather</td>\n",
       "      <td>0.0000000000</td>\n",
       "    </tr>\n",
       "  </tbody>\n",
       "</table>\n",
       "</div>"
      ],
      "text/plain": [
       "       Feature   Importance\n",
       "13  registered 0.9359149608\n",
       "12      casual 0.0640677997\n",
       "3         hour 0.0000063114\n",
       "1         year 0.0000039304\n",
       "6   workingday 0.0000018013\n",
       "5      weekday 0.0000013799\n",
       "2        month 0.0000013443\n",
       "0       season 0.0000009174\n",
       "10    humidity 0.0000006090\n",
       "8         temp 0.0000004991\n",
       "9    temp_feel 0.0000004145\n",
       "11   windspeed 0.0000000321\n",
       "4      holiday 0.0000000000\n",
       "7      weather 0.0000000000"
      ]
     },
     "execution_count": 77,
     "metadata": {},
     "output_type": "execute_result"
    }
   ],
   "source": [
    "# Gradient Boosting\n",
    "gb_feature_importance = gb_reg.feature_importances_\n",
    "\n",
    "gb_importance_df = pd.DataFrame({'Feature': X_train.columns, 'Importance': gb_feature_importance})\n",
    "gb_importance_df = gb_importance_df.sort_values(by='Importance', ascending=False)\n",
    "pd.options.display.float_format = '{:.10f}'.format\n",
    "gb_importance_df"
   ]
  },
  {
   "cell_type": "code",
   "execution_count": 78,
   "id": "ac804110",
   "metadata": {
    "colab": {
     "base_uri": "https://localhost:8080/",
     "height": 488
    },
    "id": "65a4a7bf",
    "outputId": "35adc2aa-f256-4698-9b1d-72df3da2b1e6"
   },
   "outputs": [
    {
     "data": {
      "text/html": [
       "<div>\n",
       "<style scoped>\n",
       "    .dataframe tbody tr th:only-of-type {\n",
       "        vertical-align: middle;\n",
       "    }\n",
       "\n",
       "    .dataframe tbody tr th {\n",
       "        vertical-align: top;\n",
       "    }\n",
       "\n",
       "    .dataframe thead th {\n",
       "        text-align: right;\n",
       "    }\n",
       "</style>\n",
       "<table border=\"1\" class=\"dataframe\">\n",
       "  <thead>\n",
       "    <tr style=\"text-align: right;\">\n",
       "      <th></th>\n",
       "      <th>Feature</th>\n",
       "      <th>Importance</th>\n",
       "    </tr>\n",
       "  </thead>\n",
       "  <tbody>\n",
       "    <tr>\n",
       "      <th>13</th>\n",
       "      <td>registered</td>\n",
       "      <td>0.8713802604</td>\n",
       "    </tr>\n",
       "    <tr>\n",
       "      <th>12</th>\n",
       "      <td>casual</td>\n",
       "      <td>0.1262859153</td>\n",
       "    </tr>\n",
       "    <tr>\n",
       "      <th>10</th>\n",
       "      <td>humidity</td>\n",
       "      <td>0.0013814058</td>\n",
       "    </tr>\n",
       "    <tr>\n",
       "      <th>9</th>\n",
       "      <td>temp_feel</td>\n",
       "      <td>0.0007181048</td>\n",
       "    </tr>\n",
       "    <tr>\n",
       "      <th>1</th>\n",
       "      <td>year</td>\n",
       "      <td>0.0002343137</td>\n",
       "    </tr>\n",
       "    <tr>\n",
       "      <th>0</th>\n",
       "      <td>season</td>\n",
       "      <td>0.0000000000</td>\n",
       "    </tr>\n",
       "    <tr>\n",
       "      <th>2</th>\n",
       "      <td>month</td>\n",
       "      <td>0.0000000000</td>\n",
       "    </tr>\n",
       "    <tr>\n",
       "      <th>3</th>\n",
       "      <td>hour</td>\n",
       "      <td>0.0000000000</td>\n",
       "    </tr>\n",
       "    <tr>\n",
       "      <th>4</th>\n",
       "      <td>holiday</td>\n",
       "      <td>0.0000000000</td>\n",
       "    </tr>\n",
       "    <tr>\n",
       "      <th>5</th>\n",
       "      <td>weekday</td>\n",
       "      <td>0.0000000000</td>\n",
       "    </tr>\n",
       "    <tr>\n",
       "      <th>6</th>\n",
       "      <td>workingday</td>\n",
       "      <td>0.0000000000</td>\n",
       "    </tr>\n",
       "    <tr>\n",
       "      <th>7</th>\n",
       "      <td>weather</td>\n",
       "      <td>0.0000000000</td>\n",
       "    </tr>\n",
       "    <tr>\n",
       "      <th>8</th>\n",
       "      <td>temp</td>\n",
       "      <td>0.0000000000</td>\n",
       "    </tr>\n",
       "    <tr>\n",
       "      <th>11</th>\n",
       "      <td>windspeed</td>\n",
       "      <td>0.0000000000</td>\n",
       "    </tr>\n",
       "  </tbody>\n",
       "</table>\n",
       "</div>"
      ],
      "text/plain": [
       "       Feature   Importance\n",
       "13  registered 0.8713802604\n",
       "12      casual 0.1262859153\n",
       "10    humidity 0.0013814058\n",
       "9    temp_feel 0.0007181048\n",
       "1         year 0.0002343137\n",
       "0       season 0.0000000000\n",
       "2        month 0.0000000000\n",
       "3         hour 0.0000000000\n",
       "4      holiday 0.0000000000\n",
       "5      weekday 0.0000000000\n",
       "6   workingday 0.0000000000\n",
       "7      weather 0.0000000000\n",
       "8         temp 0.0000000000\n",
       "11   windspeed 0.0000000000"
      ]
     },
     "execution_count": 78,
     "metadata": {},
     "output_type": "execute_result"
    }
   ],
   "source": [
    "# Ada Boost\n",
    "ab_feature_importance = ab_reg.feature_importances_\n",
    "\n",
    "ab_importance_df = pd.DataFrame({'Feature': X_train.columns, 'Importance': ab_feature_importance})\n",
    "ab_importance_df = ab_importance_df.sort_values(by='Importance', ascending=False)\n",
    "pd.options.display.float_format = '{:.10f}'.format\n",
    "ab_importance_df"
   ]
  },
  {
   "cell_type": "markdown",
   "id": "ce903525-ac4b-44e1-8e4e-a72cddd9f01a",
   "metadata": {
    "colab": {
     "base_uri": "https://localhost:8080/",
     "height": 488
    },
    "id": "585f1ffe",
    "outputId": "04f78065-503c-430f-90ae-8cbe448c7459"
   },
   "source": [
    "# XGBoost\n",
    "xgb_feature_importance = xgb_reg.feature_importances_\n",
    "\n",
    "xgb_importance_df = pd.DataFrame({'Feature': X_train.columns, 'Importance': xgb_feature_importance})\n",
    "xgb_importance_df = xgb_importance_df.sort_values(by='Importance', ascending=False)\n",
    "pd.options.display.float_format = '{:.10f}'.format\n",
    "xgb_importance_df"
   ]
  },
  {
   "cell_type": "markdown",
   "id": "8afea48e",
   "metadata": {
    "id": "ae90bf1a"
   },
   "source": [
    "# Model Evaluation"
   ]
  },
  {
   "cell_type": "code",
   "execution_count": 79,
   "id": "de32247d",
   "metadata": {
    "colab": {
     "base_uri": "https://localhost:8080/"
    },
    "id": "644ff4f5",
    "outputId": "ac3dbb9b-30ce-49c4-c0f0-0ab098b0a469"
   },
   "outputs": [
    {
     "name": "stdout",
     "output_type": "stream",
     "text": [
      "               Model       MAE        MSE      RMSE      R^2\n",
      "0      Decision Tree  2.250863  32.209436  5.675336 0.998983\n",
      "1      Random Forest  0.953826   7.396582  2.719666 0.999766\n",
      "2  Gradient Boosting  3.260993  28.479009  5.336573 0.999101\n",
      "3           AdaBoost 21.173001 676.091887 26.001767 0.978649\n"
     ]
    }
   ],
   "source": [
    "def evaluate_model(model, X_test, y_test):\n",
    "    # Make predictions\n",
    "    y_pred = model.predict(X_test)\n",
    "\n",
    "    # Calculate evaluation metrics\n",
    "    mae = mean_absolute_error(y_test, y_pred)\n",
    "    mse = mean_squared_error(y_test, y_pred)\n",
    "    rmse = np.sqrt(mse)\n",
    "    r2 = r2_score(y_test, y_pred)\n",
    "\n",
    "    return mae, mse, rmse, r2\n",
    "\n",
    "# Define a function to store evaluation metrics in a DataFrame\n",
    "def store_metrics_df(model_name, metrics):\n",
    "    return pd.DataFrame({\n",
    "        'Model': [model_name],\n",
    "        'MAE': [metrics[0]],\n",
    "        'MSE': [metrics[1]],\n",
    "        'RMSE': [metrics[2]],\n",
    "        'R^2': [metrics[3]]\n",
    "    })\n",
    "\n",
    "# Define the models (assuming you already have trained models)\n",
    "models = {\n",
    "    'Decision Tree': dt_reg.fit(X_train, y_train),\n",
    "    'Random Forest': rf_reg,\n",
    "    'Gradient Boosting': gb_reg,\n",
    "    'AdaBoost': ab_reg,\n",
    "    #'XGBoost': xgb_reg\n",
    "}\n",
    "\n",
    "# Evaluate models and store metrics in a DataFrame\n",
    "metrics_list = []\n",
    "for model_name, model in models.items():\n",
    "    metrics = evaluate_model(model, X_test, y_test)\n",
    "    metrics_df = store_metrics_df(model_name, metrics)\n",
    "    metrics_list.append(metrics_df)\n",
    "\n",
    "# Concatenate the metrics DataFrames\n",
    "metrics_df = pd.concat(metrics_list, ignore_index=True)\n",
    "\n",
    "# Set display format to avoid exponential notation\n",
    "pd.options.display.float_format = '{:.6f}'.format\n",
    "\n",
    "# Print the DataFrame\n",
    "print(metrics_df)"
   ]
  },
  {
   "cell_type": "markdown",
   "id": "e04495ba",
   "metadata": {
    "id": "TvwBrBvJVTrA"
   },
   "source": [
    "## Hyperparameter Tuning"
   ]
  },
  {
   "cell_type": "code",
   "execution_count": 80,
   "id": "2ff78eb1",
   "metadata": {
    "id": "dYERdh0VW5E8"
   },
   "outputs": [],
   "source": [
    "from sklearn.model_selection import GridSearchCV"
   ]
  },
  {
   "cell_type": "code",
   "execution_count": 81,
   "id": "5d8792b4",
   "metadata": {
    "colab": {
     "base_uri": "https://localhost:8080/"
    },
    "id": "vxLyuOXBSbgI",
    "outputId": "c8df9aac-be2c-435d-c6b3-49000a6ea3ed"
   },
   "outputs": [
    {
     "name": "stdout",
     "output_type": "stream",
     "text": [
      "Best parameters: {'max_depth': 15, 'min_samples_leaf': 2, 'min_samples_split': 2}\n",
      "Mean Absolute Error: 2.160626806865299\n",
      "Mean Squared Error: 29.70244132952602\n",
      "Root Mean Squared Error: 5.44999461738505\n",
      "R^2: 0.9990619909839816\n"
     ]
    }
   ],
   "source": [
    "#Decision Tree\n",
    "param_grid = {\n",
    "    'max_depth': [5, 10, 15],\n",
    "    'min_samples_split': [2, 5, 10],\n",
    "    'min_samples_leaf': [1, 2, 4, 8]\n",
    "}\n",
    "\n",
    "dt_reg = DecisionTreeRegressor()\n",
    "grid_search = GridSearchCV(estimator=dt_reg, param_grid=param_grid, cv=2, scoring='neg_mean_squared_error', n_jobs=-1)\n",
    "grid_search.fit(X_train, y_train)\n",
    "print(\"Best parameters:\", grid_search.best_params_)\n",
    "\n",
    "# Evaluation metrics after tuning\n",
    "best_dt = grid_search.best_estimator_\n",
    "y_pred_dt = best_dt.predict(X_test)\n",
    "mae = mean_absolute_error(y_test, y_pred_dt)\n",
    "print(\"Mean Absolute Error:\", mae)\n",
    "mse = mean_squared_error(y_test, y_pred_dt)\n",
    "print(\"Mean Squared Error:\", mse)\n",
    "rmse = np.sqrt(mse)\n",
    "print(\"Root Mean Squared Error:\", rmse)\n",
    "r2 = r2_score(y_test, y_pred_dt)\n",
    "print(\"R^2:\", r2)"
   ]
  },
  {
   "cell_type": "code",
   "execution_count": 82,
   "id": "0fac93e0",
   "metadata": {
    "colab": {
     "base_uri": "https://localhost:8080/"
    },
    "id": "Ddln1vSOVpR-",
    "outputId": "b78cfa86-ba68-44b5-f5bb-9a44ed6f52f2"
   },
   "outputs": [
    {
     "name": "stdout",
     "output_type": "stream",
     "text": [
      "Best parameters: {'max_depth': 30, 'min_samples_leaf': 1, 'min_samples_split': 2, 'n_estimators': 300}\n",
      "Mean Absolute Error: 0.9016474875335632\n",
      "Mean Squared Error: 6.978139131824572\n",
      "Root Mean Squared Error: 2.641616764753088\n",
      "R^2: 0.999779628975677\n"
     ]
    }
   ],
   "source": [
    "#Random Forest\n",
    "param_grid = {\n",
    "    'n_estimators': [100, 200, 300],\n",
    "    'max_depth': [10, 20, 30],\n",
    "    'min_samples_split': [2, 5, 10],\n",
    "    'min_samples_leaf': [1, 2, 4]\n",
    "}\n",
    "\n",
    "rf_reg = RandomForestRegressor()\n",
    "grid_search = GridSearchCV(estimator=rf_reg, param_grid=param_grid, cv=2, scoring='neg_mean_squared_error', n_jobs=-1)\n",
    "grid_search.fit(X_train, y_train)\n",
    "print(\"Best parameters:\", grid_search.best_params_)\n",
    "\n",
    "# Evaluation metrics after tuning\n",
    "best_rf = grid_search.best_estimator_\n",
    "y_pred_rf = best_rf.predict(X_test)\n",
    "mae = mean_absolute_error(y_test, y_pred_rf)\n",
    "print(\"Mean Absolute Error:\", mae)\n",
    "mse = mean_squared_error(y_test, y_pred_rf)\n",
    "print(\"Mean Squared Error:\", mse)\n",
    "rmse = np.sqrt(mse)\n",
    "print(\"Root Mean Squared Error:\", rmse)\n",
    "r2 = r2_score(y_test, y_pred_rf)\n",
    "print(\"R^2:\", r2)"
   ]
  },
  {
   "cell_type": "code",
   "execution_count": 83,
   "id": "d9e1d6bf",
   "metadata": {
    "colab": {
     "background_save": true
    },
    "id": "f5z9EqUyVrgQ",
    "outputId": "836de4ca-73b4-4a49-e789-21638db47fec"
   },
   "outputs": [
    {
     "name": "stdout",
     "output_type": "stream",
     "text": [
      "Best parameters: {'learning_rate': 0.1, 'max_depth': 5, 'min_samples_leaf': 2, 'min_samples_split': 5, 'n_estimators': 300}\n",
      "Mean Absolute Error: 1.2895770542579013\n",
      "Mean Squared Error: 5.6944381081495345\n",
      "Root Mean Squared Error: 2.386302182907591\n",
      "R^2: 0.9998201685098089\n"
     ]
    }
   ],
   "source": [
    "#Gradient Boosting\n",
    "param_grid = {\n",
    "    'n_estimators': [100, 200, 300],\n",
    "    'learning_rate': [0.01, 0.1, 0.2],\n",
    "    'max_depth': [3, 5, 7],\n",
    "    'min_samples_split': [2, 5, 10],\n",
    "    'min_samples_leaf': [1, 2, 4]\n",
    "}\n",
    "\n",
    "gb_reg = GradientBoostingRegressor()\n",
    "grid_search = GridSearchCV(estimator=gb_reg, param_grid=param_grid, cv=2, scoring='neg_mean_squared_error', n_jobs=-1)\n",
    "grid_search.fit(X_train, y_train)\n",
    "print(\"Best parameters:\", grid_search.best_params_)\n",
    "\n",
    "# Evaluation metrics after tuning\n",
    "best_gb = grid_search.best_estimator_\n",
    "y_pred_gb = best_gb.predict(X_test)\n",
    "mae = mean_absolute_error(y_test, y_pred_gb)\n",
    "print(\"Mean Absolute Error:\", mae)\n",
    "mse = mean_squared_error(y_test, y_pred_gb)\n",
    "print(\"Mean Squared Error:\", mse)\n",
    "rmse = np.sqrt(mse)\n",
    "print(\"Root Mean Squared Error:\", rmse)\n",
    "r2 = r2_score(y_test, y_pred_gb)\n",
    "print(\"R^2:\", r2)"
   ]
  },
  {
   "cell_type": "code",
   "execution_count": 84,
   "id": "1dbcc35f",
   "metadata": {
    "id": "rE0lahChjYQR"
   },
   "outputs": [
    {
     "name": "stdout",
     "output_type": "stream",
     "text": [
      "Best parameters for AdaBoost: {'learning_rate': 0.2, 'n_estimators': 200}\n",
      "Mean Absolute Error (AdaBoost): 21.352930224537385\n",
      "Mean Squared Error (AdaBoost): 678.8930620622984\n",
      "Root Mean Squared Error (AdaBoost): 26.05557641009499\n",
      "R^2 (AdaBoost): 0.978560421816448\n"
     ]
    }
   ],
   "source": [
    "# Ada boost\n",
    "ada_param_grid = {\n",
    "    'n_estimators': [50, 100, 200],\n",
    "    'learning_rate': [0.01, 0.1, 0.2]\n",
    "}\n",
    "\n",
    "ada_reg = AdaBoostRegressor()\n",
    "ada_grid_search = GridSearchCV(estimator=ada_reg, param_grid=ada_param_grid, cv=2, scoring='neg_mean_squared_error', n_jobs=-1)\n",
    "ada_grid_search.fit(X_train, y_train)\n",
    "print(\"Best parameters for AdaBoost:\", ada_grid_search.best_params_)\n",
    "\n",
    "# Evaluation metrics after tuning for AdaBoost\n",
    "best_ada = ada_grid_search.best_estimator_\n",
    "y_pred_ada = best_ada.predict(X_test)\n",
    "mae_ada = mean_absolute_error(y_test, y_pred_ada)\n",
    "print(\"Mean Absolute Error (AdaBoost):\", mae_ada)\n",
    "mse_ada = mean_squared_error(y_test, y_pred_ada)\n",
    "print(\"Mean Squared Error (AdaBoost):\", mse_ada)\n",
    "rmse_ada = np.sqrt(mse_ada)\n",
    "print(\"Root Mean Squared Error (AdaBoost):\", rmse_ada)\n",
    "r2_ada = r2_score(y_test, y_pred_ada)\n",
    "print(\"R^2 (AdaBoost):\", r2_ada)"
   ]
  },
  {
   "cell_type": "markdown",
   "id": "7708f1b5-2e65-4a29-96b9-8c8925d7ad11",
   "metadata": {},
   "source": [
    "# XGBoost\n",
    "xgb_param_grid = {\n",
    "    'n_estimators': [50, 100, 200],\n",
    "    'learning_rate': [0.01, 0.1, 0.2],\n",
    "    'max_depth': [3, 5, 7],\n",
    "    'min_child_weight': [1, 3, 5],\n",
    "    'gamma': [0, 0.1, 0.2]\n",
    "}\n",
    "\n",
    "xgb_reg = XGBRegressor()\n",
    "xgb_grid_search = GridSearchCV(estimator=xgb_reg, param_grid=xgb_param_grid, cv=2, scoring='neg_mean_squared_error', n_jobs=-1)\n",
    "xgb_grid_search.fit(X_train, y_train)\n",
    "print(\"Best parameters for XGBoost:\", xgb_grid_search.best_params_)\n",
    "\n",
    "# Evaluation metrics after tuning for XGBoost\n",
    "best_xgb = xgb_grid_search.best_estimator_\n",
    "y_pred_xgb = best_xgb.predict(X_test)\n",
    "mae_xgb = mean_absolute_error(y_test, y_pred_xgb)\n",
    "print(\"Mean Absolute Error (XGBoost):\", mae_xgb)\n",
    "mse_xgb = mean_squared_error(y_test, y_pred_xgb)\n",
    "print(\"Mean Squared Error (XGBoost):\", mse_xgb)\n",
    "rmse_xgb = np.sqrt(mse_xgb)\n",
    "print(\"Root Mean Squared Error (XGBoost):\", rmse_xgb)\n",
    "r2_xgb = r2_score(y_test, y_pred_xgb)\n",
    "print(\"R^2 (XGBoost):\", r2_xgb)"
   ]
  },
  {
   "cell_type": "code",
   "execution_count": 85,
   "id": "3b3f7021-e552-4451-ac28-bb7fb55da50a",
   "metadata": {},
   "outputs": [
    {
     "data": {
      "text/html": [
       "<div>\n",
       "<style scoped>\n",
       "    .dataframe tbody tr th:only-of-type {\n",
       "        vertical-align: middle;\n",
       "    }\n",
       "\n",
       "    .dataframe tbody tr th {\n",
       "        vertical-align: top;\n",
       "    }\n",
       "\n",
       "    .dataframe thead th {\n",
       "        text-align: right;\n",
       "    }\n",
       "</style>\n",
       "<table border=\"1\" class=\"dataframe\">\n",
       "  <thead>\n",
       "    <tr style=\"text-align: right;\">\n",
       "      <th></th>\n",
       "      <th>date</th>\n",
       "      <th>season</th>\n",
       "      <th>year</th>\n",
       "      <th>month</th>\n",
       "      <th>hour</th>\n",
       "      <th>holiday</th>\n",
       "      <th>weekday</th>\n",
       "      <th>workingday</th>\n",
       "      <th>weather</th>\n",
       "      <th>temp</th>\n",
       "      <th>temp_feel</th>\n",
       "      <th>humidity</th>\n",
       "      <th>windspeed</th>\n",
       "      <th>casual</th>\n",
       "      <th>registered</th>\n",
       "      <th>count</th>\n",
       "    </tr>\n",
       "  </thead>\n",
       "  <tbody>\n",
       "    <tr>\n",
       "      <th>0</th>\n",
       "      <td>2011-01-01</td>\n",
       "      <td>1</td>\n",
       "      <td>2011</td>\n",
       "      <td>1</td>\n",
       "      <td>0</td>\n",
       "      <td>0</td>\n",
       "      <td>6</td>\n",
       "      <td>0</td>\n",
       "      <td>0</td>\n",
       "      <td>0.240000</td>\n",
       "      <td>0.287900</td>\n",
       "      <td>0.810000</td>\n",
       "      <td>0.000000</td>\n",
       "      <td>3</td>\n",
       "      <td>13</td>\n",
       "      <td>16</td>\n",
       "    </tr>\n",
       "    <tr>\n",
       "      <th>1</th>\n",
       "      <td>2011-01-01</td>\n",
       "      <td>1</td>\n",
       "      <td>2011</td>\n",
       "      <td>1</td>\n",
       "      <td>1</td>\n",
       "      <td>0</td>\n",
       "      <td>6</td>\n",
       "      <td>0</td>\n",
       "      <td>0</td>\n",
       "      <td>0.220000</td>\n",
       "      <td>0.272700</td>\n",
       "      <td>0.800000</td>\n",
       "      <td>0.000000</td>\n",
       "      <td>8</td>\n",
       "      <td>32</td>\n",
       "      <td>40</td>\n",
       "    </tr>\n",
       "    <tr>\n",
       "      <th>2</th>\n",
       "      <td>2011-01-01</td>\n",
       "      <td>1</td>\n",
       "      <td>2011</td>\n",
       "      <td>1</td>\n",
       "      <td>2</td>\n",
       "      <td>0</td>\n",
       "      <td>6</td>\n",
       "      <td>0</td>\n",
       "      <td>0</td>\n",
       "      <td>0.220000</td>\n",
       "      <td>0.272700</td>\n",
       "      <td>0.775000</td>\n",
       "      <td>0.000000</td>\n",
       "      <td>5</td>\n",
       "      <td>27</td>\n",
       "      <td>32</td>\n",
       "    </tr>\n",
       "    <tr>\n",
       "      <th>3</th>\n",
       "      <td>2011-01-01</td>\n",
       "      <td>1</td>\n",
       "      <td>2011</td>\n",
       "      <td>1</td>\n",
       "      <td>3</td>\n",
       "      <td>0</td>\n",
       "      <td>6</td>\n",
       "      <td>0</td>\n",
       "      <td>0</td>\n",
       "      <td>0.240000</td>\n",
       "      <td>0.287900</td>\n",
       "      <td>0.750000</td>\n",
       "      <td>0.000000</td>\n",
       "      <td>3</td>\n",
       "      <td>10</td>\n",
       "      <td>13</td>\n",
       "    </tr>\n",
       "    <tr>\n",
       "      <th>4</th>\n",
       "      <td>2011-01-01</td>\n",
       "      <td>1</td>\n",
       "      <td>2011</td>\n",
       "      <td>1</td>\n",
       "      <td>4</td>\n",
       "      <td>0</td>\n",
       "      <td>6</td>\n",
       "      <td>0</td>\n",
       "      <td>0</td>\n",
       "      <td>0.240000</td>\n",
       "      <td>0.287900</td>\n",
       "      <td>0.750000</td>\n",
       "      <td>0.000000</td>\n",
       "      <td>0</td>\n",
       "      <td>1</td>\n",
       "      <td>1</td>\n",
       "    </tr>\n",
       "    <tr>\n",
       "      <th>...</th>\n",
       "      <td>...</td>\n",
       "      <td>...</td>\n",
       "      <td>...</td>\n",
       "      <td>...</td>\n",
       "      <td>...</td>\n",
       "      <td>...</td>\n",
       "      <td>...</td>\n",
       "      <td>...</td>\n",
       "      <td>...</td>\n",
       "      <td>...</td>\n",
       "      <td>...</td>\n",
       "      <td>...</td>\n",
       "      <td>...</td>\n",
       "      <td>...</td>\n",
       "      <td>...</td>\n",
       "      <td>...</td>\n",
       "    </tr>\n",
       "    <tr>\n",
       "      <th>17374</th>\n",
       "      <td>2012-12-31</td>\n",
       "      <td>1</td>\n",
       "      <td>2012</td>\n",
       "      <td>12</td>\n",
       "      <td>19</td>\n",
       "      <td>0</td>\n",
       "      <td>1</td>\n",
       "      <td>1</td>\n",
       "      <td>3</td>\n",
       "      <td>0.260000</td>\n",
       "      <td>0.257600</td>\n",
       "      <td>0.600000</td>\n",
       "      <td>0.164200</td>\n",
       "      <td>11</td>\n",
       "      <td>108</td>\n",
       "      <td>119</td>\n",
       "    </tr>\n",
       "    <tr>\n",
       "      <th>17375</th>\n",
       "      <td>2012-12-31</td>\n",
       "      <td>1</td>\n",
       "      <td>2012</td>\n",
       "      <td>12</td>\n",
       "      <td>20</td>\n",
       "      <td>0</td>\n",
       "      <td>1</td>\n",
       "      <td>1</td>\n",
       "      <td>3</td>\n",
       "      <td>0.260000</td>\n",
       "      <td>0.257600</td>\n",
       "      <td>0.600000</td>\n",
       "      <td>0.164200</td>\n",
       "      <td>8</td>\n",
       "      <td>81</td>\n",
       "      <td>89</td>\n",
       "    </tr>\n",
       "    <tr>\n",
       "      <th>17376</th>\n",
       "      <td>2012-12-31</td>\n",
       "      <td>1</td>\n",
       "      <td>2012</td>\n",
       "      <td>12</td>\n",
       "      <td>21</td>\n",
       "      <td>0</td>\n",
       "      <td>1</td>\n",
       "      <td>1</td>\n",
       "      <td>0</td>\n",
       "      <td>0.260000</td>\n",
       "      <td>0.257600</td>\n",
       "      <td>0.600000</td>\n",
       "      <td>0.164200</td>\n",
       "      <td>7</td>\n",
       "      <td>83</td>\n",
       "      <td>90</td>\n",
       "    </tr>\n",
       "    <tr>\n",
       "      <th>17377</th>\n",
       "      <td>2012-12-31</td>\n",
       "      <td>1</td>\n",
       "      <td>2012</td>\n",
       "      <td>12</td>\n",
       "      <td>22</td>\n",
       "      <td>0</td>\n",
       "      <td>1</td>\n",
       "      <td>1</td>\n",
       "      <td>0</td>\n",
       "      <td>0.260000</td>\n",
       "      <td>0.272700</td>\n",
       "      <td>0.560000</td>\n",
       "      <td>0.134300</td>\n",
       "      <td>13</td>\n",
       "      <td>48</td>\n",
       "      <td>61</td>\n",
       "    </tr>\n",
       "    <tr>\n",
       "      <th>17378</th>\n",
       "      <td>2012-12-31</td>\n",
       "      <td>1</td>\n",
       "      <td>2012</td>\n",
       "      <td>12</td>\n",
       "      <td>23</td>\n",
       "      <td>0</td>\n",
       "      <td>1</td>\n",
       "      <td>1</td>\n",
       "      <td>0</td>\n",
       "      <td>0.260000</td>\n",
       "      <td>0.272700</td>\n",
       "      <td>0.650000</td>\n",
       "      <td>0.134300</td>\n",
       "      <td>12</td>\n",
       "      <td>37</td>\n",
       "      <td>49</td>\n",
       "    </tr>\n",
       "  </tbody>\n",
       "</table>\n",
       "<p>17379 rows × 16 columns</p>\n",
       "</div>"
      ],
      "text/plain": [
       "            date  season  year  month  hour  holiday  weekday  workingday  \\\n",
       "0     2011-01-01       1  2011      1     0        0        6           0   \n",
       "1     2011-01-01       1  2011      1     1        0        6           0   \n",
       "2     2011-01-01       1  2011      1     2        0        6           0   \n",
       "3     2011-01-01       1  2011      1     3        0        6           0   \n",
       "4     2011-01-01       1  2011      1     4        0        6           0   \n",
       "...          ...     ...   ...    ...   ...      ...      ...         ...   \n",
       "17374 2012-12-31       1  2012     12    19        0        1           1   \n",
       "17375 2012-12-31       1  2012     12    20        0        1           1   \n",
       "17376 2012-12-31       1  2012     12    21        0        1           1   \n",
       "17377 2012-12-31       1  2012     12    22        0        1           1   \n",
       "17378 2012-12-31       1  2012     12    23        0        1           1   \n",
       "\n",
       "       weather     temp  temp_feel  humidity  windspeed  casual  registered  \\\n",
       "0            0 0.240000   0.287900  0.810000   0.000000       3          13   \n",
       "1            0 0.220000   0.272700  0.800000   0.000000       8          32   \n",
       "2            0 0.220000   0.272700  0.775000   0.000000       5          27   \n",
       "3            0 0.240000   0.287900  0.750000   0.000000       3          10   \n",
       "4            0 0.240000   0.287900  0.750000   0.000000       0           1   \n",
       "...        ...      ...        ...       ...        ...     ...         ...   \n",
       "17374        3 0.260000   0.257600  0.600000   0.164200      11         108   \n",
       "17375        3 0.260000   0.257600  0.600000   0.164200       8          81   \n",
       "17376        0 0.260000   0.257600  0.600000   0.164200       7          83   \n",
       "17377        0 0.260000   0.272700  0.560000   0.134300      13          48   \n",
       "17378        0 0.260000   0.272700  0.650000   0.134300      12          37   \n",
       "\n",
       "       count  \n",
       "0         16  \n",
       "1         40  \n",
       "2         32  \n",
       "3         13  \n",
       "4          1  \n",
       "...      ...  \n",
       "17374    119  \n",
       "17375     89  \n",
       "17376     90  \n",
       "17377     61  \n",
       "17378     49  \n",
       "\n",
       "[17379 rows x 16 columns]"
      ]
     },
     "execution_count": 85,
     "metadata": {},
     "output_type": "execute_result"
    }
   ],
   "source": [
    "data"
   ]
  },
  {
   "cell_type": "code",
   "execution_count": 86,
   "id": "354a89f1",
   "metadata": {},
   "outputs": [
    {
     "name": "stdout",
     "output_type": "stream",
     "text": [
      "       season  year  month  hour  holiday  weekday  workingday  weather  \\\n",
      "0           1  2011      1     0        0        6           0        0   \n",
      "1           1  2011      1     1        0        6           0        0   \n",
      "2           1  2011      1     2        0        6           0        0   \n",
      "3           1  2011      1     3        0        6           0        0   \n",
      "4           1  2011      1     4        0        6           0        0   \n",
      "...       ...   ...    ...   ...      ...      ...         ...      ...   \n",
      "17374       1  2012     12    19        0        1           1        3   \n",
      "17375       1  2012     12    20        0        1           1        3   \n",
      "17376       1  2012     12    21        0        1           1        0   \n",
      "17377       1  2012     12    22        0        1           1        0   \n",
      "17378       1  2012     12    23        0        1           1        0   \n",
      "\n",
      "          temp  temp_feel  humidity  windspeed  \n",
      "0     0.240000   0.287900  0.810000   0.000000  \n",
      "1     0.220000   0.272700  0.800000   0.000000  \n",
      "2     0.220000   0.272700  0.775000   0.000000  \n",
      "3     0.240000   0.287900  0.750000   0.000000  \n",
      "4     0.240000   0.287900  0.750000   0.000000  \n",
      "...        ...        ...       ...        ...  \n",
      "17374 0.260000   0.257600  0.600000   0.164200  \n",
      "17375 0.260000   0.257600  0.600000   0.164200  \n",
      "17376 0.260000   0.257600  0.600000   0.164200  \n",
      "17377 0.260000   0.272700  0.560000   0.134300  \n",
      "17378 0.260000   0.272700  0.650000   0.134300  \n",
      "\n",
      "[17379 rows x 12 columns]\n"
     ]
    }
   ],
   "source": [
    "import pickle\n",
    "from sklearn.ensemble import RandomForestRegressor\n",
    "from sklearn.model_selection import train_test_split\n",
    "\n",
    "# Assuming your data preprocessing and feature engineering are already done and stored in `data`\n",
    "X = data.drop(['date', 'count','casual','registered'], axis=1)\n",
    "y = data['count']\n",
    "print(X)\n",
    "# Splitting the data\n",
    "X_train, X_test, y_train, y_test = train_test_split(X, y, test_size=0.2, random_state=42)\n",
    "\n",
    "# Training the model\n",
    "model = RandomForestRegressor()\n",
    "model.fit(X_train, y_train)\n",
    "\n",
    "# Saving the model\n",
    "with open('bike_model.pkl', 'wb') as file:\n",
    "    pickle.dump(model, file)\n"
   ]
  }
 ],
 "metadata": {
  "colab": {
   "provenance": []
  },
  "kernelspec": {
   "display_name": "Python 3 (ipykernel)",
   "language": "python",
   "name": "python3"
  },
  "language_info": {
   "codemirror_mode": {
    "name": "ipython",
    "version": 3
   },
   "file_extension": ".py",
   "mimetype": "text/x-python",
   "name": "python",
   "nbconvert_exporter": "python",
   "pygments_lexer": "ipython3",
   "version": "3.12.4"
  }
 },
 "nbformat": 4,
 "nbformat_minor": 5
}
